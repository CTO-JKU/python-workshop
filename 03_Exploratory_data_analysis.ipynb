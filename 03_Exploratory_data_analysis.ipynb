{
 "cells": [
  {
   "cell_type": "markdown",
   "id": "f9fe6444",
   "metadata": {},
   "source": [
    "# NOTEBOOK 3: Exploratory data analysis"
   ]
  },
  {
   "cell_type": "code",
   "execution_count": null,
   "id": "5ac3e133",
   "metadata": {},
   "outputs": [],
   "source": []
  },
  {
   "cell_type": "markdown",
   "id": "75ad199b",
   "metadata": {},
   "source": [
    "## Visualization\n",
    "---\n",
    "### Boxplots\n",
    "The module `seaborn` implements a lot of nice statistical plots (see: https://seaborn.pydata.org/examples/index.html)"
   ]
  },
  {
   "cell_type": "code",
   "execution_count": null,
   "id": "55577fe1",
   "metadata": {},
   "outputs": [],
   "source": []
  },
  {
   "cell_type": "code",
   "execution_count": null,
   "id": "e6e3072d",
   "metadata": {},
   "outputs": [],
   "source": []
  },
  {
   "cell_type": "markdown",
   "id": "5e500c29",
   "metadata": {},
   "source": [
    "Standardization is done the remove any physical units from the data and ensure a mean on zero and a standard deviation of one"
   ]
  },
  {
   "cell_type": "code",
   "execution_count": null,
   "id": "792e5361",
   "metadata": {},
   "outputs": [],
   "source": []
  },
  {
   "cell_type": "code",
   "execution_count": null,
   "id": "773a5ea6",
   "metadata": {},
   "outputs": [],
   "source": []
  },
  {
   "cell_type": "code",
   "execution_count": null,
   "id": "59a4c1af",
   "metadata": {},
   "outputs": [],
   "source": []
  },
  {
   "cell_type": "markdown",
   "id": "7b398d68",
   "metadata": {},
   "source": [
    "## Correlation analysis\n",
    "---"
   ]
  },
  {
   "cell_type": "markdown",
   "id": "e244b33c",
   "metadata": {},
   "source": [
    "### Pearson correlation coefficient\n",
    "The Pearson correlation coefficient is a measure of linear correlation between two variables `X` and `y`. It quantifies how well the relationship between two variables can be described by a straight line"
   ]
  },
  {
   "cell_type": "code",
   "execution_count": null,
   "id": "c5049ddf",
   "metadata": {},
   "outputs": [],
   "source": []
  },
  {
   "cell_type": "markdown",
   "id": "c0d657de",
   "metadata": {},
   "source": [
    "The null hypothesis (H0): There is no linear correlation between `X` and `y` (population correlation $\\rho=0$)"
   ]
  },
  {
   "cell_type": "code",
   "execution_count": null,
   "id": "169e94c8",
   "metadata": {},
   "outputs": [],
   "source": []
  },
  {
   "cell_type": "markdown",
   "id": "57ce5f71",
   "metadata": {},
   "source": [
    "#### Heat maps"
   ]
  },
  {
   "cell_type": "code",
   "execution_count": null,
   "id": "3b7225bc",
   "metadata": {},
   "outputs": [],
   "source": []
  },
  {
   "cell_type": "code",
   "execution_count": null,
   "id": "1608ec78",
   "metadata": {},
   "outputs": [],
   "source": []
  },
  {
   "cell_type": "code",
   "execution_count": null,
   "id": "a9af35a6",
   "metadata": {},
   "outputs": [],
   "source": []
  },
  {
   "cell_type": "markdown",
   "id": "a587ddf5",
   "metadata": {},
   "source": [
    "## Dimension reduction\n",
    "---\n",
    "### PCA\n",
    "Principal Component Analysis is a dimensionality reduction technique. It transforms a dataset with possibly correlated variables into a set of linearly uncorrelated variables called principal components."
   ]
  },
  {
   "cell_type": "code",
   "execution_count": null,
   "id": "6af095ef",
   "metadata": {},
   "outputs": [],
   "source": []
  },
  {
   "cell_type": "code",
   "execution_count": null,
   "id": "23a6fdcd",
   "metadata": {},
   "outputs": [],
   "source": []
  },
  {
   "cell_type": "code",
   "execution_count": null,
   "id": "2972f026",
   "metadata": {},
   "outputs": [],
   "source": []
  },
  {
   "cell_type": "code",
   "execution_count": null,
   "id": "43e84e97",
   "metadata": {},
   "outputs": [],
   "source": []
  },
  {
   "cell_type": "code",
   "execution_count": null,
   "id": "f83cd8a0",
   "metadata": {},
   "outputs": [],
   "source": []
  }
 ],
 "metadata": {
  "kernelspec": {
   "display_name": "BasicML",
   "language": "python",
   "name": "python3"
  },
  "language_info": {
   "codemirror_mode": {
    "name": "ipython",
    "version": 3
   },
   "file_extension": ".py",
   "mimetype": "text/x-python",
   "name": "python",
   "nbconvert_exporter": "python",
   "pygments_lexer": "ipython3",
   "version": "3.12.9"
  }
 },
 "nbformat": 4,
 "nbformat_minor": 5
}
