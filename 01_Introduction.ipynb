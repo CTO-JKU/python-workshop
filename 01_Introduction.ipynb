{
 "cells": [
  {
   "cell_type": "markdown",
   "id": "c239aa5a",
   "metadata": {},
   "source": [
    "# NOTEBOOK 1: Python Basics"
   ]
  },
  {
   "cell_type": "markdown",
   "id": "546c8f9a",
   "metadata": {},
   "source": [
    "\n",
    "## Variables\n",
    "---\n",
    "In Python, a variable is just a named container that holds a value. Each variable name must be unique.\n",
    "Consider two variables, `a` and `b`, to which we assign any numeric values we like for example, `a = 1`. \n",
    "Here, the `=` symbol does not mean \"equal to\" as in mathematics instead, it instructs Python to store the value on the right-hand side in the variable on the left. This makes it easy to reuse that value later.\n",
    "\n",
    "To manipulate variables, Python offers operators. These symbols let us combine or transform stored values. For instance, we can create a new variable named `addition` defined as the sum of `a` and `b`, and another called `exponentiation` that raises `a` to the power of `b`."
   ]
  },
  {
   "cell_type": "code",
   "execution_count": null,
   "id": "d5ba295c",
   "metadata": {},
   "outputs": [],
   "source": []
  },
  {
   "cell_type": "markdown",
   "id": "a8c73d63",
   "metadata": {},
   "source": [
    "The `#` indicates a comment. In a Jupyter-Notebook the execution order matters"
   ]
  },
  {
   "cell_type": "code",
   "execution_count": null,
   "id": "c49081c3",
   "metadata": {},
   "outputs": [],
   "source": []
  },
  {
   "cell_type": "code",
   "execution_count": null,
   "id": "0d223a8a",
   "metadata": {},
   "outputs": [],
   "source": []
  },
  {
   "cell_type": "markdown",
   "id": "ba494678",
   "metadata": {},
   "source": [
    "## Operators\n",
    "---\n",
    "Besides the arithmetic operators `+, -, *, /, **` there are additional operators like:\n",
    "\n",
    "The comparison operator `==` compares if two values are equal."
   ]
  },
  {
   "cell_type": "code",
   "execution_count": null,
   "id": "83fa70af",
   "metadata": {},
   "outputs": [],
   "source": []
  },
  {
   "cell_type": "markdown",
   "id": "a80e1168",
   "metadata": {},
   "source": [
    "`<, >` are the less and greater operators "
   ]
  },
  {
   "cell_type": "code",
   "execution_count": null,
   "id": "69c970d9",
   "metadata": {},
   "outputs": [],
   "source": []
  },
  {
   "cell_type": "markdown",
   "id": "2a7bdeb8",
   "metadata": {},
   "source": [
    "`<=, >=` are the less-equal and greater-equal operators "
   ]
  },
  {
   "cell_type": "code",
   "execution_count": null,
   "id": "56fa8520",
   "metadata": {},
   "outputs": [],
   "source": []
  },
  {
   "cell_type": "markdown",
   "id": "6f45f98c",
   "metadata": {},
   "source": [
    "`//` is the floor division operator which divides the two numbers and rounds the result down to the nearest whole number"
   ]
  },
  {
   "cell_type": "code",
   "execution_count": null,
   "id": "b4573c18",
   "metadata": {},
   "outputs": [],
   "source": []
  },
  {
   "cell_type": "markdown",
   "id": "a12fb440",
   "metadata": {},
   "source": [
    "`%` is the modulo oparator which returns the remainder of dividing two numbers"
   ]
  },
  {
   "cell_type": "code",
   "execution_count": null,
   "id": "099672f0",
   "metadata": {},
   "outputs": [],
   "source": []
  },
  {
   "cell_type": "markdown",
   "id": "6cc0dfdc",
   "metadata": {},
   "source": [
    "For the complete list of all python operators visit https://www.w3schools.com/python/python_operators.asp"
   ]
  },
  {
   "cell_type": "markdown",
   "id": "60c9a844",
   "metadata": {},
   "source": [
    "## Data types\n",
    "---\n",
    "In python there are different types of data like\n",
    "- Numeric data types: `int, float, complex`\n",
    "- String data type: `str`\n",
    "- Sequence types: `list, tuple, range`\n",
    "- Mapping data type: `dict`\n",
    "- Boolean type: `bool`\n",
    "- Set data types: `set, frozenset`\n",
    "- Binary types: `bytes, bytearray, memoryview`"
   ]
  },
  {
   "cell_type": "markdown",
   "id": "0ee3ea2e",
   "metadata": {},
   "source": [
    "### Numeric data types"
   ]
  },
  {
   "cell_type": "code",
   "execution_count": null,
   "id": "808d1d64",
   "metadata": {},
   "outputs": [],
   "source": []
  },
  {
   "cell_type": "markdown",
   "id": "df6199e2",
   "metadata": {},
   "source": [
    "The builtin function `type` returns the assigned data type of the variable "
   ]
  },
  {
   "cell_type": "code",
   "execution_count": null,
   "id": "e080e1cb",
   "metadata": {},
   "outputs": [],
   "source": []
  },
  {
   "cell_type": "markdown",
   "id": "b0a9b873",
   "metadata": {},
   "source": [
    "In Python (and almost every other mainstream language), the float type follows the IEEE-754 binary64 specification (\"double precision\").\n",
    "This has the \"downside\" that some numbers have no exact binary representation"
   ]
  },
  {
   "cell_type": "code",
   "execution_count": null,
   "id": "5353d684",
   "metadata": {},
   "outputs": [],
   "source": []
  },
  {
   "cell_type": "markdown",
   "id": "0be1618b",
   "metadata": {},
   "source": [
    "Just like 1/3 is 0.333... in decimal and can't be stored exactly, 0.1 is 0.000110011001100... in binary in which the pattern repeats forever"
   ]
  },
  {
   "cell_type": "markdown",
   "id": "0ea3b923",
   "metadata": {},
   "source": [
    "### Strings\n",
    "Strings (sequence of characters) are surrounded by either single quotation marks, or double quotation marks"
   ]
  },
  {
   "cell_type": "code",
   "execution_count": null,
   "id": "470ae77b",
   "metadata": {},
   "outputs": [],
   "source": []
  },
  {
   "cell_type": "markdown",
   "id": "6f62240e",
   "metadata": {},
   "source": [
    "A multiline string is surrounded by using three quotes `\"\"\"`"
   ]
  },
  {
   "cell_type": "code",
   "execution_count": null,
   "id": "e385da0a",
   "metadata": {},
   "outputs": [],
   "source": []
  },
  {
   "cell_type": "markdown",
   "id": "38bfa962",
   "metadata": {},
   "source": [
    "The `\\n` is a so called escape chracter which introduces a new line"
   ]
  },
  {
   "cell_type": "markdown",
   "id": "1203bbdb",
   "metadata": {},
   "source": [
    "### List\n",
    "A `list` is a collection of data of potential different data types which is mutable (changeable)"
   ]
  },
  {
   "cell_type": "code",
   "execution_count": null,
   "id": "95a43b08",
   "metadata": {},
   "outputs": [],
   "source": []
  },
  {
   "cell_type": "markdown",
   "id": "2247972c",
   "metadata": {},
   "source": [
    "The data can be changed by indexing the item (starting from 0)"
   ]
  },
  {
   "cell_type": "code",
   "execution_count": null,
   "id": "662e1b39",
   "metadata": {},
   "outputs": [],
   "source": []
  },
  {
   "cell_type": "markdown",
   "id": "415aeeaa",
   "metadata": {},
   "source": [
    "The length of a the list `x` can be computed with the `len(x)`"
   ]
  },
  {
   "cell_type": "code",
   "execution_count": null,
   "id": "e8bbd92d",
   "metadata": {},
   "outputs": [],
   "source": []
  },
  {
   "cell_type": "markdown",
   "id": "33fdfb17",
   "metadata": {},
   "source": [
    "For the list data type usefull methods are implemented like `append()`, `insert()`, `pop()`, `remove()` and `clear()`.\n",
    "\n",
    "`append(m)` adds the new data `m` to the list"
   ]
  },
  {
   "cell_type": "code",
   "execution_count": null,
   "id": "c644296a",
   "metadata": {},
   "outputs": [],
   "source": []
  },
  {
   "cell_type": "markdown",
   "id": "722e953e",
   "metadata": {},
   "source": [
    "`pop(n)` removes the elementa at index `n`"
   ]
  },
  {
   "cell_type": "code",
   "execution_count": null,
   "id": "305d2a6e",
   "metadata": {},
   "outputs": [],
   "source": []
  },
  {
   "cell_type": "markdown",
   "id": "665a0126",
   "metadata": {},
   "source": [
    "`insert(n, m)` places at index `n` the data `m`. The existing data is thereby shifted. "
   ]
  },
  {
   "cell_type": "code",
   "execution_count": null,
   "id": "f188bd0d",
   "metadata": {},
   "outputs": [],
   "source": []
  },
  {
   "cell_type": "markdown",
   "id": "bb26f5fb",
   "metadata": {},
   "source": [
    "The `remove(n)` method removes the first matching with element `n` from the list."
   ]
  },
  {
   "cell_type": "code",
   "execution_count": null,
   "id": "fca90c8d",
   "metadata": {},
   "outputs": [],
   "source": []
  },
  {
   "cell_type": "markdown",
   "id": "9177d922",
   "metadata": {},
   "source": [
    "To remove a certain element by its index the `del` keyword is used"
   ]
  },
  {
   "cell_type": "code",
   "execution_count": null,
   "id": "03614bb2",
   "metadata": {},
   "outputs": [],
   "source": []
  },
  {
   "cell_type": "markdown",
   "id": "4360544f",
   "metadata": {},
   "source": [
    "The `clear()` method removes all elements from the list"
   ]
  },
  {
   "cell_type": "code",
   "execution_count": null,
   "id": "015d7144",
   "metadata": {},
   "outputs": [],
   "source": []
  },
  {
   "cell_type": "markdown",
   "id": "8aca003a",
   "metadata": {},
   "source": [
    "Mutable means that the stored data can be changed after assignment"
   ]
  },
  {
   "cell_type": "markdown",
   "id": "4b980162",
   "metadata": {},
   "source": [
    "### Tuple\n",
    "A `tuple` is a collection of data of potential different data types which is immutable"
   ]
  },
  {
   "cell_type": "code",
   "execution_count": null,
   "id": "89fc1de0",
   "metadata": {},
   "outputs": [],
   "source": []
  },
  {
   "cell_type": "markdown",
   "id": "3687be92",
   "metadata": {},
   "source": [
    "Re-assignment is not possible"
   ]
  },
  {
   "cell_type": "code",
   "execution_count": null,
   "id": "9134e54d",
   "metadata": {},
   "outputs": [],
   "source": []
  },
  {
   "cell_type": "markdown",
   "id": "122313d0",
   "metadata": {},
   "source": [
    "### Mapping data type\n",
    "A `dict` is a collection of data of potential different data types in the from of key-value pairs"
   ]
  },
  {
   "cell_type": "code",
   "execution_count": null,
   "id": "0ef48f09",
   "metadata": {},
   "outputs": [],
   "source": []
  },
  {
   "cell_type": "markdown",
   "id": "17979c72",
   "metadata": {},
   "source": [
    "The data is mutable and is indexed by the key"
   ]
  },
  {
   "cell_type": "code",
   "execution_count": null,
   "id": "f13213ca",
   "metadata": {},
   "outputs": [],
   "source": []
  },
  {
   "cell_type": "markdown",
   "id": "29802805",
   "metadata": {},
   "source": [
    "A key-value pair can also be completly deleted"
   ]
  },
  {
   "cell_type": "code",
   "execution_count": null,
   "id": "aee3e2cb",
   "metadata": {},
   "outputs": [],
   "source": []
  },
  {
   "cell_type": "markdown",
   "id": "d2fbf3f8",
   "metadata": {},
   "source": [
    "The `dict` has similiar methods implemented as in `list` and can be found at https://www.w3schools.com/python/python_dictionaries_methods.asp"
   ]
  },
  {
   "cell_type": "markdown",
   "id": "ed226a6d",
   "metadata": {},
   "source": [
    "### Boolean type\n",
    "Booleans represent one of two values: `True` or `False`"
   ]
  },
  {
   "cell_type": "code",
   "execution_count": null,
   "id": "313f6038",
   "metadata": {},
   "outputs": [],
   "source": []
  },
  {
   "cell_type": "markdown",
   "id": "aba8b816",
   "metadata": {},
   "source": [
    "Almost any value is evaluated to True if it has some sort of content.\n",
    "Any string is True, except empty strings.\n",
    "Any number is True, except 0.\n",
    "Any list, tuple, set, and dictionary are True, except empty ones."
   ]
  },
  {
   "cell_type": "code",
   "execution_count": null,
   "id": "2e0eabc3",
   "metadata": {},
   "outputs": [],
   "source": []
  },
  {
   "cell_type": "markdown",
   "id": "14c04a66",
   "metadata": {},
   "source": [
    "`isinstance(x, y)` is used to check if th variable `x` is of a certain datatype `y`"
   ]
  },
  {
   "cell_type": "code",
   "execution_count": null,
   "id": "75492c56",
   "metadata": {},
   "outputs": [],
   "source": []
  },
  {
   "cell_type": "markdown",
   "id": "aff69788",
   "metadata": {},
   "source": [
    "## Conditionals\n",
    "---\n",
    "### if-else\n",
    "`if-else` statements conduct conditional decisions. The statement must evaluate to a boolean. Code which should be executed if the statement evaluates to true must be indented using a `tab` or `spaces`."
   ]
  },
  {
   "cell_type": "code",
   "execution_count": null,
   "id": "5b47f02a",
   "metadata": {},
   "outputs": [],
   "source": []
  },
  {
   "cell_type": "markdown",
   "id": "dfe5c19e",
   "metadata": {},
   "source": [
    "Everything that evaluates to a boolean using `bool(x)` can be used as a statement"
   ]
  },
  {
   "cell_type": "code",
   "execution_count": null,
   "id": "3c243903",
   "metadata": {},
   "outputs": [],
   "source": []
  },
  {
   "cell_type": "markdown",
   "id": "3eedec8a",
   "metadata": {},
   "source": [
    "Also logic operations can be performed using `and`, `or`, `is` and `not`"
   ]
  },
  {
   "cell_type": "code",
   "execution_count": null,
   "id": "c4848dcb",
   "metadata": {},
   "outputs": [],
   "source": []
  },
  {
   "cell_type": "markdown",
   "id": "1aeeefaf",
   "metadata": {},
   "source": [
    "### Pattern matching\n",
    "The `match-case` statement allows pattern matching"
   ]
  },
  {
   "cell_type": "code",
   "execution_count": null,
   "id": "1e5b6f4f",
   "metadata": {},
   "outputs": [],
   "source": []
  },
  {
   "cell_type": "code",
   "execution_count": null,
   "id": "bbed2a29",
   "metadata": {},
   "outputs": [],
   "source": []
  },
  {
   "cell_type": "markdown",
   "id": "9e31924b",
   "metadata": {},
   "source": [
    "## Loops\n",
    "---\n",
    "Python has two primitive loop commands `while` and `for` loops\n",
    "### while loop"
   ]
  },
  {
   "cell_type": "code",
   "execution_count": null,
   "id": "eabd4a49",
   "metadata": {},
   "outputs": [],
   "source": []
  },
  {
   "cell_type": "markdown",
   "id": "c4aedf38",
   "metadata": {},
   "source": [
    "With the `break` statement the loop cen be stopped even if the while condition is true"
   ]
  },
  {
   "cell_type": "code",
   "execution_count": null,
   "id": "92430d2c",
   "metadata": {},
   "outputs": [],
   "source": []
  },
  {
   "cell_type": "markdown",
   "id": "ee37b3da",
   "metadata": {},
   "source": [
    "With the `continue` statement the current iteration can be stopped and the loop continues with the next iteration"
   ]
  },
  {
   "cell_type": "code",
   "execution_count": null,
   "id": "bf75c690",
   "metadata": {},
   "outputs": [],
   "source": []
  },
  {
   "cell_type": "markdown",
   "id": "e10d2b40",
   "metadata": {},
   "source": [
    "With the `else` statement a block of code is run once when the condition no longer is true"
   ]
  },
  {
   "cell_type": "code",
   "execution_count": null,
   "id": "0a1adf72",
   "metadata": {},
   "outputs": [],
   "source": []
  },
  {
   "cell_type": "markdown",
   "id": "f8e9b8c5",
   "metadata": {},
   "source": [
    "### for loop\n",
    "A `for` loop is used for iterating over a sequence (that is either a list, a tuple, a dictionary or a string)."
   ]
  },
  {
   "cell_type": "code",
   "execution_count": null,
   "id": "7b115636",
   "metadata": {},
   "outputs": [],
   "source": []
  },
  {
   "cell_type": "markdown",
   "id": "4910068a",
   "metadata": {},
   "source": [
    "Even strings are iterable objects, they contain a sequence of characters"
   ]
  },
  {
   "cell_type": "code",
   "execution_count": null,
   "id": "5437e9a5",
   "metadata": {},
   "outputs": [],
   "source": []
  },
  {
   "cell_type": "markdown",
   "id": "892447c2",
   "metadata": {},
   "source": [
    "To loop through a set of code a specified number of times, the `range()`function can be used.\n",
    "The `range()` function returns a sequence of numbers, starting from 0 by default, and increments by 1 (by default), and ends at a specified number (but not including the specified number).\n"
   ]
  },
  {
   "cell_type": "code",
   "execution_count": null,
   "id": "7272535c",
   "metadata": {},
   "outputs": [],
   "source": []
  },
  {
   "cell_type": "markdown",
   "id": "10390815",
   "metadata": {},
   "source": [
    "The range() function defaults to 0 as a starting value, however it is possible to specify the starting value by adding a parameter: range(2, 6), which means values from 2 to 6 (but not including 6)"
   ]
  },
  {
   "cell_type": "code",
   "execution_count": null,
   "id": "7bbfc2a5",
   "metadata": {},
   "outputs": [],
   "source": []
  },
  {
   "cell_type": "markdown",
   "id": "c63905fd",
   "metadata": {},
   "source": [
    "The `range()` function defaults to increment the sequence by 1, however it is possible to specify the increment value by adding a third parameter"
   ]
  },
  {
   "cell_type": "code",
   "execution_count": null,
   "id": "774477f9",
   "metadata": {},
   "outputs": [],
   "source": []
  },
  {
   "cell_type": "markdown",
   "id": "0c984d19",
   "metadata": {},
   "source": [
    "A nested loop is a loop inside a loop. The \"inner loop\" will be executed one time for each iteration of the \"outer loop\""
   ]
  },
  {
   "cell_type": "code",
   "execution_count": null,
   "id": "bf5f67f5",
   "metadata": {},
   "outputs": [],
   "source": []
  },
  {
   "cell_type": "markdown",
   "id": "a1ac28ab",
   "metadata": {},
   "source": [
    "The `continue`, `break` and `else` statements work the same is in the `while` loops"
   ]
  },
  {
   "cell_type": "markdown",
   "id": "3207a47c",
   "metadata": {},
   "source": [
    "## Functions\n",
    "---\n",
    "In Python a function is defined using the `def` keyword:"
   ]
  },
  {
   "cell_type": "code",
   "execution_count": null,
   "id": "bc704337",
   "metadata": {},
   "outputs": [],
   "source": []
  },
  {
   "cell_type": "markdown",
   "id": "c45a8e01",
   "metadata": {},
   "source": [
    "To call a function, use the function name followed by parenthesis:"
   ]
  },
  {
   "cell_type": "code",
   "execution_count": null,
   "id": "b37e9e7d",
   "metadata": {},
   "outputs": [],
   "source": []
  },
  {
   "cell_type": "markdown",
   "id": "d724d681",
   "metadata": {},
   "source": [
    "Information can be passed into functions as arguments.\n",
    "\n",
    "Arguments are specified after the function name, inside the parentheses.\n",
    "Any number of arguments can be used."
   ]
  },
  {
   "cell_type": "code",
   "execution_count": null,
   "id": "841591f7",
   "metadata": {},
   "outputs": [],
   "source": []
  },
  {
   "cell_type": "markdown",
   "id": "b3a23a8e",
   "metadata": {},
   "source": [
    "Default arguments can be defined."
   ]
  },
  {
   "cell_type": "code",
   "execution_count": null,
   "id": "1c6cb06b",
   "metadata": {},
   "outputs": [],
   "source": []
  },
  {
   "cell_type": "markdown",
   "id": "1c0f4885",
   "metadata": {},
   "source": [
    "To return a a value from the function, the `return` statement ist used "
   ]
  },
  {
   "cell_type": "code",
   "execution_count": null,
   "id": "e4f25e52",
   "metadata": {},
   "outputs": [],
   "source": []
  },
  {
   "cell_type": "markdown",
   "id": "cb34d29e",
   "metadata": {},
   "source": [
    "## Exercise\n",
    "---\n",
    "Write a **function** called `find_multiples(numbers, n)` that:\n",
    "\n",
    "1. Takes two inputs:\n",
    "   - `numbers`: a **list of integers**\n",
    "   - `n`: an **integer** to check for multiples\n",
    "\n",
    "1. Returns a **tuple** containing:\n",
    "   - The list of multiples\n",
    "   - The sum of the multiples\n",
    "\n"
   ]
  },
  {
   "cell_type": "code",
   "execution_count": null,
   "id": "0b736d3f",
   "metadata": {},
   "outputs": [],
   "source": [
    "def find_multiples(numbers: list[int], n: int) -> tuple[list[int], int]:\n",
    "   pass"
   ]
  },
  {
   "cell_type": "code",
   "execution_count": null,
   "id": "ead746d6",
   "metadata": {},
   "outputs": [],
   "source": [
    "assert find_multiples([1, 2, 3, 4, 5], 2) == ([2, 4], 6), \"Test case 1 failed\"\n",
    "assert find_multiples([10, 20, 30], 10) == ([10, 20, 30], 60), \"Test case 2 failed\"\n",
    "assert find_multiples([1, 3, 7, 9], 2) == ([], 0), \"Test case 3 failed\"\n",
    "assert find_multiples([], 3) == ([], 0), \"Test case 4 failed\""
   ]
  }
 ],
 "metadata": {
  "kernelspec": {
   "display_name": "BasicML",
   "language": "python",
   "name": "python3"
  },
  "language_info": {
   "codemirror_mode": {
    "name": "ipython",
    "version": 3
   },
   "file_extension": ".py",
   "mimetype": "text/x-python",
   "name": "python",
   "nbconvert_exporter": "python",
   "pygments_lexer": "ipython3",
   "version": "3.12.9"
  }
 },
 "nbformat": 4,
 "nbformat_minor": 5
}
