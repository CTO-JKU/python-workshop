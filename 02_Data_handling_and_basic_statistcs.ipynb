{
 "cells": [
  {
   "cell_type": "markdown",
   "id": "1febfa1c",
   "metadata": {},
   "source": [
    "# NOTEBOOK 2: Data handling and basic statistics"
   ]
  },
  {
   "cell_type": "markdown",
   "id": "65c0e7ea",
   "metadata": {},
   "source": [
    "## Data handling\n",
    "---\n",
    "In python exist two main data analysis libraries `pandas` and `polars`. In this tutorial `pandas` will be used.\n",
    "\n",
    "The pandas documentation can be found under https://pandas.pydata.org/\n",
    "\n",
    "### Data loading"
   ]
  },
  {
   "cell_type": "code",
   "execution_count": null,
   "id": "fa34fbc7",
   "metadata": {},
   "outputs": [
    {
     "data": {
      "application/vnd.microsoft.datawrangler.viewer.v0+json": {
       "columns": [
        {
         "name": "index",
         "rawType": "int64",
         "type": "integer"
        },
        {
         "name": "fixed acidity",
         "rawType": "float64",
         "type": "float"
        },
        {
         "name": "volatile acidity",
         "rawType": "float64",
         "type": "float"
        },
        {
         "name": "citric acid",
         "rawType": "float64",
         "type": "float"
        },
        {
         "name": "residual sugar",
         "rawType": "float64",
         "type": "float"
        },
        {
         "name": "chlorides",
         "rawType": "float64",
         "type": "float"
        },
        {
         "name": "free sulfur dioxide",
         "rawType": "float64",
         "type": "float"
        },
        {
         "name": "total sulfur dioxide",
         "rawType": "float64",
         "type": "float"
        },
        {
         "name": "density",
         "rawType": "float64",
         "type": "float"
        },
        {
         "name": "pH",
         "rawType": "float64",
         "type": "float"
        },
        {
         "name": "sulphates",
         "rawType": "float64",
         "type": "float"
        },
        {
         "name": "alcohol",
         "rawType": "float64",
         "type": "float"
        },
        {
         "name": "quality",
         "rawType": "int64",
         "type": "integer"
        }
       ],
       "ref": "6ac026a6-c1ac-4749-a640-07ed5ac4bfe4",
       "rows": [
        [
         "0",
         "7.0",
         "0.27",
         "0.36",
         "20.7",
         "0.045",
         "45.0",
         "170.0",
         "1.001",
         "3.0",
         "0.45",
         "8.8",
         "6"
        ],
        [
         "1",
         "6.3",
         "0.3",
         "0.34",
         "1.6",
         "0.049",
         "14.0",
         "132.0",
         "0.994",
         "3.3",
         "0.49",
         "9.5",
         "6"
        ],
        [
         "2",
         "8.1",
         "0.28",
         "0.4",
         "6.9",
         "0.05",
         "30.0",
         "97.0",
         "0.9951",
         "3.26",
         "0.44",
         "10.1",
         "6"
        ],
        [
         "3",
         "7.2",
         "0.23",
         "0.32",
         "8.5",
         "0.058",
         "47.0",
         "186.0",
         "0.9956",
         "3.19",
         "0.4",
         "9.9",
         "6"
        ],
        [
         "4",
         "7.2",
         "0.23",
         "0.32",
         "8.5",
         "0.058",
         "47.0",
         "186.0",
         "0.9956",
         "3.19",
         "0.4",
         "9.9",
         "6"
        ]
       ],
       "shape": {
        "columns": 12,
        "rows": 5
       }
      },
      "text/html": [
       "<div>\n",
       "<style scoped>\n",
       "    .dataframe tbody tr th:only-of-type {\n",
       "        vertical-align: middle;\n",
       "    }\n",
       "\n",
       "    .dataframe tbody tr th {\n",
       "        vertical-align: top;\n",
       "    }\n",
       "\n",
       "    .dataframe thead th {\n",
       "        text-align: right;\n",
       "    }\n",
       "</style>\n",
       "<table border=\"1\" class=\"dataframe\">\n",
       "  <thead>\n",
       "    <tr style=\"text-align: right;\">\n",
       "      <th></th>\n",
       "      <th>fixed acidity</th>\n",
       "      <th>volatile acidity</th>\n",
       "      <th>citric acid</th>\n",
       "      <th>residual sugar</th>\n",
       "      <th>chlorides</th>\n",
       "      <th>free sulfur dioxide</th>\n",
       "      <th>total sulfur dioxide</th>\n",
       "      <th>density</th>\n",
       "      <th>pH</th>\n",
       "      <th>sulphates</th>\n",
       "      <th>alcohol</th>\n",
       "      <th>quality</th>\n",
       "    </tr>\n",
       "  </thead>\n",
       "  <tbody>\n",
       "    <tr>\n",
       "      <th>0</th>\n",
       "      <td>7.0</td>\n",
       "      <td>0.27</td>\n",
       "      <td>0.36</td>\n",
       "      <td>20.7</td>\n",
       "      <td>0.045</td>\n",
       "      <td>45.0</td>\n",
       "      <td>170.0</td>\n",
       "      <td>1.0010</td>\n",
       "      <td>3.00</td>\n",
       "      <td>0.45</td>\n",
       "      <td>8.8</td>\n",
       "      <td>6</td>\n",
       "    </tr>\n",
       "    <tr>\n",
       "      <th>1</th>\n",
       "      <td>6.3</td>\n",
       "      <td>0.30</td>\n",
       "      <td>0.34</td>\n",
       "      <td>1.6</td>\n",
       "      <td>0.049</td>\n",
       "      <td>14.0</td>\n",
       "      <td>132.0</td>\n",
       "      <td>0.9940</td>\n",
       "      <td>3.30</td>\n",
       "      <td>0.49</td>\n",
       "      <td>9.5</td>\n",
       "      <td>6</td>\n",
       "    </tr>\n",
       "    <tr>\n",
       "      <th>2</th>\n",
       "      <td>8.1</td>\n",
       "      <td>0.28</td>\n",
       "      <td>0.40</td>\n",
       "      <td>6.9</td>\n",
       "      <td>0.050</td>\n",
       "      <td>30.0</td>\n",
       "      <td>97.0</td>\n",
       "      <td>0.9951</td>\n",
       "      <td>3.26</td>\n",
       "      <td>0.44</td>\n",
       "      <td>10.1</td>\n",
       "      <td>6</td>\n",
       "    </tr>\n",
       "    <tr>\n",
       "      <th>3</th>\n",
       "      <td>7.2</td>\n",
       "      <td>0.23</td>\n",
       "      <td>0.32</td>\n",
       "      <td>8.5</td>\n",
       "      <td>0.058</td>\n",
       "      <td>47.0</td>\n",
       "      <td>186.0</td>\n",
       "      <td>0.9956</td>\n",
       "      <td>3.19</td>\n",
       "      <td>0.40</td>\n",
       "      <td>9.9</td>\n",
       "      <td>6</td>\n",
       "    </tr>\n",
       "    <tr>\n",
       "      <th>4</th>\n",
       "      <td>7.2</td>\n",
       "      <td>0.23</td>\n",
       "      <td>0.32</td>\n",
       "      <td>8.5</td>\n",
       "      <td>0.058</td>\n",
       "      <td>47.0</td>\n",
       "      <td>186.0</td>\n",
       "      <td>0.9956</td>\n",
       "      <td>3.19</td>\n",
       "      <td>0.40</td>\n",
       "      <td>9.9</td>\n",
       "      <td>6</td>\n",
       "    </tr>\n",
       "  </tbody>\n",
       "</table>\n",
       "</div>"
      ],
      "text/plain": [
       "   fixed acidity  volatile acidity  citric acid  residual sugar  chlorides  \\\n",
       "0            7.0              0.27         0.36            20.7      0.045   \n",
       "1            6.3              0.30         0.34             1.6      0.049   \n",
       "2            8.1              0.28         0.40             6.9      0.050   \n",
       "3            7.2              0.23         0.32             8.5      0.058   \n",
       "4            7.2              0.23         0.32             8.5      0.058   \n",
       "\n",
       "   free sulfur dioxide  total sulfur dioxide  density    pH  sulphates  \\\n",
       "0                 45.0                 170.0   1.0010  3.00       0.45   \n",
       "1                 14.0                 132.0   0.9940  3.30       0.49   \n",
       "2                 30.0                  97.0   0.9951  3.26       0.44   \n",
       "3                 47.0                 186.0   0.9956  3.19       0.40   \n",
       "4                 47.0                 186.0   0.9956  3.19       0.40   \n",
       "\n",
       "   alcohol  quality  \n",
       "0      8.8        6  \n",
       "1      9.5        6  \n",
       "2     10.1        6  \n",
       "3      9.9        6  \n",
       "4      9.9        6  "
      ]
     },
     "execution_count": 2,
     "metadata": {},
     "output_type": "execute_result"
    }
   ],
   "source": [
    "import pandas as pd\n",
    "\n",
    "df_white = pd.read_csv('data/winequality-white.csv', sep=';')\n",
    "df_white.head() # Prints the first 5 rows of the dataframe"
   ]
  },
  {
   "cell_type": "code",
   "execution_count": 3,
   "id": "fb067755",
   "metadata": {},
   "outputs": [
    {
     "data": {
      "application/vnd.microsoft.datawrangler.viewer.v0+json": {
       "columns": [
        {
         "name": "index",
         "rawType": "object",
         "type": "string"
        },
        {
         "name": "fixed acidity",
         "rawType": "float64",
         "type": "float"
        },
        {
         "name": "volatile acidity",
         "rawType": "float64",
         "type": "float"
        },
        {
         "name": "citric acid",
         "rawType": "float64",
         "type": "float"
        },
        {
         "name": "residual sugar",
         "rawType": "float64",
         "type": "float"
        },
        {
         "name": "chlorides",
         "rawType": "float64",
         "type": "float"
        },
        {
         "name": "free sulfur dioxide",
         "rawType": "float64",
         "type": "float"
        },
        {
         "name": "total sulfur dioxide",
         "rawType": "float64",
         "type": "float"
        },
        {
         "name": "density",
         "rawType": "float64",
         "type": "float"
        },
        {
         "name": "pH",
         "rawType": "float64",
         "type": "float"
        },
        {
         "name": "sulphates",
         "rawType": "float64",
         "type": "float"
        },
        {
         "name": "alcohol",
         "rawType": "float64",
         "type": "float"
        },
        {
         "name": "quality",
         "rawType": "float64",
         "type": "float"
        }
       ],
       "ref": "a616d4e6-f7ec-437e-844e-a79158a455fd",
       "rows": [
        [
         "count",
         "4898.0",
         "4898.0",
         "4898.0",
         "4898.0",
         "4898.0",
         "4898.0",
         "4898.0",
         "4898.0",
         "4898.0",
         "4898.0",
         "4898.0",
         "4898.0"
        ],
        [
         "mean",
         "6.854787668436097",
         "0.27824111882400976",
         "0.33419150673744386",
         "6.391414863209474",
         "0.04577235606369946",
         "35.30808493262556",
         "138.36065741118824",
         "0.9940273764801959",
         "3.1882666394446715",
         "0.48984687627603113",
         "10.514267047774602",
         "5.87790935075541"
        ],
        [
         "std",
         "0.8438682276875188",
         "0.10079454842486428",
         "0.12101980420298301",
         "5.072057784014864",
         "0.02184796809372882",
         "17.007137325232566",
         "42.49806455414294",
         "0.0029909069169369354",
         "0.1510005996150667",
         "0.11412583394883138",
         "1.2306205677573183",
         "0.8856385749678454"
        ],
        [
         "min",
         "3.8",
         "0.08",
         "0.0",
         "0.6",
         "0.009",
         "2.0",
         "9.0",
         "0.98711",
         "2.72",
         "0.22",
         "8.0",
         "3.0"
        ],
        [
         "25%",
         "6.3",
         "0.21",
         "0.27",
         "1.7",
         "0.036",
         "23.0",
         "108.0",
         "0.9917225000000001",
         "3.09",
         "0.41",
         "9.5",
         "5.0"
        ],
        [
         "50%",
         "6.8",
         "0.26",
         "0.32",
         "5.2",
         "0.043",
         "34.0",
         "134.0",
         "0.99374",
         "3.18",
         "0.47",
         "10.4",
         "6.0"
        ],
        [
         "75%",
         "7.3",
         "0.32",
         "0.39",
         "9.9",
         "0.05",
         "46.0",
         "167.0",
         "0.9961",
         "3.28",
         "0.55",
         "11.4",
         "6.0"
        ],
        [
         "max",
         "14.2",
         "1.1",
         "1.66",
         "65.8",
         "0.346",
         "289.0",
         "440.0",
         "1.03898",
         "3.82",
         "1.08",
         "14.2",
         "9.0"
        ]
       ],
       "shape": {
        "columns": 12,
        "rows": 8
       }
      },
      "text/html": [
       "<div>\n",
       "<style scoped>\n",
       "    .dataframe tbody tr th:only-of-type {\n",
       "        vertical-align: middle;\n",
       "    }\n",
       "\n",
       "    .dataframe tbody tr th {\n",
       "        vertical-align: top;\n",
       "    }\n",
       "\n",
       "    .dataframe thead th {\n",
       "        text-align: right;\n",
       "    }\n",
       "</style>\n",
       "<table border=\"1\" class=\"dataframe\">\n",
       "  <thead>\n",
       "    <tr style=\"text-align: right;\">\n",
       "      <th></th>\n",
       "      <th>fixed acidity</th>\n",
       "      <th>volatile acidity</th>\n",
       "      <th>citric acid</th>\n",
       "      <th>residual sugar</th>\n",
       "      <th>chlorides</th>\n",
       "      <th>free sulfur dioxide</th>\n",
       "      <th>total sulfur dioxide</th>\n",
       "      <th>density</th>\n",
       "      <th>pH</th>\n",
       "      <th>sulphates</th>\n",
       "      <th>alcohol</th>\n",
       "      <th>quality</th>\n",
       "    </tr>\n",
       "  </thead>\n",
       "  <tbody>\n",
       "    <tr>\n",
       "      <th>count</th>\n",
       "      <td>4898.000000</td>\n",
       "      <td>4898.000000</td>\n",
       "      <td>4898.000000</td>\n",
       "      <td>4898.000000</td>\n",
       "      <td>4898.000000</td>\n",
       "      <td>4898.000000</td>\n",
       "      <td>4898.000000</td>\n",
       "      <td>4898.000000</td>\n",
       "      <td>4898.000000</td>\n",
       "      <td>4898.000000</td>\n",
       "      <td>4898.000000</td>\n",
       "      <td>4898.000000</td>\n",
       "    </tr>\n",
       "    <tr>\n",
       "      <th>mean</th>\n",
       "      <td>6.854788</td>\n",
       "      <td>0.278241</td>\n",
       "      <td>0.334192</td>\n",
       "      <td>6.391415</td>\n",
       "      <td>0.045772</td>\n",
       "      <td>35.308085</td>\n",
       "      <td>138.360657</td>\n",
       "      <td>0.994027</td>\n",
       "      <td>3.188267</td>\n",
       "      <td>0.489847</td>\n",
       "      <td>10.514267</td>\n",
       "      <td>5.877909</td>\n",
       "    </tr>\n",
       "    <tr>\n",
       "      <th>std</th>\n",
       "      <td>0.843868</td>\n",
       "      <td>0.100795</td>\n",
       "      <td>0.121020</td>\n",
       "      <td>5.072058</td>\n",
       "      <td>0.021848</td>\n",
       "      <td>17.007137</td>\n",
       "      <td>42.498065</td>\n",
       "      <td>0.002991</td>\n",
       "      <td>0.151001</td>\n",
       "      <td>0.114126</td>\n",
       "      <td>1.230621</td>\n",
       "      <td>0.885639</td>\n",
       "    </tr>\n",
       "    <tr>\n",
       "      <th>min</th>\n",
       "      <td>3.800000</td>\n",
       "      <td>0.080000</td>\n",
       "      <td>0.000000</td>\n",
       "      <td>0.600000</td>\n",
       "      <td>0.009000</td>\n",
       "      <td>2.000000</td>\n",
       "      <td>9.000000</td>\n",
       "      <td>0.987110</td>\n",
       "      <td>2.720000</td>\n",
       "      <td>0.220000</td>\n",
       "      <td>8.000000</td>\n",
       "      <td>3.000000</td>\n",
       "    </tr>\n",
       "    <tr>\n",
       "      <th>25%</th>\n",
       "      <td>6.300000</td>\n",
       "      <td>0.210000</td>\n",
       "      <td>0.270000</td>\n",
       "      <td>1.700000</td>\n",
       "      <td>0.036000</td>\n",
       "      <td>23.000000</td>\n",
       "      <td>108.000000</td>\n",
       "      <td>0.991723</td>\n",
       "      <td>3.090000</td>\n",
       "      <td>0.410000</td>\n",
       "      <td>9.500000</td>\n",
       "      <td>5.000000</td>\n",
       "    </tr>\n",
       "    <tr>\n",
       "      <th>50%</th>\n",
       "      <td>6.800000</td>\n",
       "      <td>0.260000</td>\n",
       "      <td>0.320000</td>\n",
       "      <td>5.200000</td>\n",
       "      <td>0.043000</td>\n",
       "      <td>34.000000</td>\n",
       "      <td>134.000000</td>\n",
       "      <td>0.993740</td>\n",
       "      <td>3.180000</td>\n",
       "      <td>0.470000</td>\n",
       "      <td>10.400000</td>\n",
       "      <td>6.000000</td>\n",
       "    </tr>\n",
       "    <tr>\n",
       "      <th>75%</th>\n",
       "      <td>7.300000</td>\n",
       "      <td>0.320000</td>\n",
       "      <td>0.390000</td>\n",
       "      <td>9.900000</td>\n",
       "      <td>0.050000</td>\n",
       "      <td>46.000000</td>\n",
       "      <td>167.000000</td>\n",
       "      <td>0.996100</td>\n",
       "      <td>3.280000</td>\n",
       "      <td>0.550000</td>\n",
       "      <td>11.400000</td>\n",
       "      <td>6.000000</td>\n",
       "    </tr>\n",
       "    <tr>\n",
       "      <th>max</th>\n",
       "      <td>14.200000</td>\n",
       "      <td>1.100000</td>\n",
       "      <td>1.660000</td>\n",
       "      <td>65.800000</td>\n",
       "      <td>0.346000</td>\n",
       "      <td>289.000000</td>\n",
       "      <td>440.000000</td>\n",
       "      <td>1.038980</td>\n",
       "      <td>3.820000</td>\n",
       "      <td>1.080000</td>\n",
       "      <td>14.200000</td>\n",
       "      <td>9.000000</td>\n",
       "    </tr>\n",
       "  </tbody>\n",
       "</table>\n",
       "</div>"
      ],
      "text/plain": [
       "       fixed acidity  volatile acidity  citric acid  residual sugar  \\\n",
       "count    4898.000000       4898.000000  4898.000000     4898.000000   \n",
       "mean        6.854788          0.278241     0.334192        6.391415   \n",
       "std         0.843868          0.100795     0.121020        5.072058   \n",
       "min         3.800000          0.080000     0.000000        0.600000   \n",
       "25%         6.300000          0.210000     0.270000        1.700000   \n",
       "50%         6.800000          0.260000     0.320000        5.200000   \n",
       "75%         7.300000          0.320000     0.390000        9.900000   \n",
       "max        14.200000          1.100000     1.660000       65.800000   \n",
       "\n",
       "         chlorides  free sulfur dioxide  total sulfur dioxide      density  \\\n",
       "count  4898.000000          4898.000000           4898.000000  4898.000000   \n",
       "mean      0.045772            35.308085            138.360657     0.994027   \n",
       "std       0.021848            17.007137             42.498065     0.002991   \n",
       "min       0.009000             2.000000              9.000000     0.987110   \n",
       "25%       0.036000            23.000000            108.000000     0.991723   \n",
       "50%       0.043000            34.000000            134.000000     0.993740   \n",
       "75%       0.050000            46.000000            167.000000     0.996100   \n",
       "max       0.346000           289.000000            440.000000     1.038980   \n",
       "\n",
       "                pH    sulphates      alcohol      quality  \n",
       "count  4898.000000  4898.000000  4898.000000  4898.000000  \n",
       "mean      3.188267     0.489847    10.514267     5.877909  \n",
       "std       0.151001     0.114126     1.230621     0.885639  \n",
       "min       2.720000     0.220000     8.000000     3.000000  \n",
       "25%       3.090000     0.410000     9.500000     5.000000  \n",
       "50%       3.180000     0.470000    10.400000     6.000000  \n",
       "75%       3.280000     0.550000    11.400000     6.000000  \n",
       "max       3.820000     1.080000    14.200000     9.000000  "
      ]
     },
     "execution_count": 3,
     "metadata": {},
     "output_type": "execute_result"
    }
   ],
   "source": [
    "df_white.describe() # Prints the summary statistics of the dataframe"
   ]
  },
  {
   "cell_type": "code",
   "execution_count": 4,
   "id": "2eaf0ecc",
   "metadata": {},
   "outputs": [
    {
     "name": "stdout",
     "output_type": "stream",
     "text": [
      "<class 'pandas.core.frame.DataFrame'>\n",
      "RangeIndex: 4898 entries, 0 to 4897\n",
      "Data columns (total 12 columns):\n",
      " #   Column                Non-Null Count  Dtype  \n",
      "---  ------                --------------  -----  \n",
      " 0   fixed acidity         4898 non-null   float64\n",
      " 1   volatile acidity      4898 non-null   float64\n",
      " 2   citric acid           4898 non-null   float64\n",
      " 3   residual sugar        4898 non-null   float64\n",
      " 4   chlorides             4898 non-null   float64\n",
      " 5   free sulfur dioxide   4898 non-null   float64\n",
      " 6   total sulfur dioxide  4898 non-null   float64\n",
      " 7   density               4898 non-null   float64\n",
      " 8   pH                    4898 non-null   float64\n",
      " 9   sulphates             4898 non-null   float64\n",
      " 10  alcohol               4898 non-null   float64\n",
      " 11  quality               4898 non-null   int64  \n",
      "dtypes: float64(11), int64(1)\n",
      "memory usage: 459.3 KB\n"
     ]
    }
   ],
   "source": [
    "df_white.info() # Prints the information (datatypes etc.) about the dataframe"
   ]
  },
  {
   "cell_type": "markdown",
   "id": "b85c6b3e",
   "metadata": {},
   "source": [
    "### Indexing data"
   ]
  },
  {
   "cell_type": "code",
   "execution_count": 5,
   "id": "27db0dc7",
   "metadata": {},
   "outputs": [
    {
     "data": {
      "application/vnd.microsoft.datawrangler.viewer.v0+json": {
       "columns": [
        {
         "name": "index",
         "rawType": "int64",
         "type": "integer"
        },
        {
         "name": "fixed acidity",
         "rawType": "float64",
         "type": "float"
        },
        {
         "name": "pH",
         "rawType": "float64",
         "type": "float"
        }
       ],
       "ref": "42c4ccdc-0656-4ab1-baf8-ef01caf1b4b4",
       "rows": [
        [
         "5",
         "8.1",
         "3.26"
        ],
        [
         "6",
         "6.2",
         "3.18"
        ],
        [
         "7",
         "7.0",
         "3.0"
        ],
        [
         "8",
         "6.3",
         "3.3"
        ],
        [
         "9",
         "8.1",
         "3.22"
        ],
        [
         "10",
         "8.1",
         "2.99"
        ]
       ],
       "shape": {
        "columns": 2,
        "rows": 6
       }
      },
      "text/html": [
       "<div>\n",
       "<style scoped>\n",
       "    .dataframe tbody tr th:only-of-type {\n",
       "        vertical-align: middle;\n",
       "    }\n",
       "\n",
       "    .dataframe tbody tr th {\n",
       "        vertical-align: top;\n",
       "    }\n",
       "\n",
       "    .dataframe thead th {\n",
       "        text-align: right;\n",
       "    }\n",
       "</style>\n",
       "<table border=\"1\" class=\"dataframe\">\n",
       "  <thead>\n",
       "    <tr style=\"text-align: right;\">\n",
       "      <th></th>\n",
       "      <th>fixed acidity</th>\n",
       "      <th>pH</th>\n",
       "    </tr>\n",
       "  </thead>\n",
       "  <tbody>\n",
       "    <tr>\n",
       "      <th>5</th>\n",
       "      <td>8.1</td>\n",
       "      <td>3.26</td>\n",
       "    </tr>\n",
       "    <tr>\n",
       "      <th>6</th>\n",
       "      <td>6.2</td>\n",
       "      <td>3.18</td>\n",
       "    </tr>\n",
       "    <tr>\n",
       "      <th>7</th>\n",
       "      <td>7.0</td>\n",
       "      <td>3.00</td>\n",
       "    </tr>\n",
       "    <tr>\n",
       "      <th>8</th>\n",
       "      <td>6.3</td>\n",
       "      <td>3.30</td>\n",
       "    </tr>\n",
       "    <tr>\n",
       "      <th>9</th>\n",
       "      <td>8.1</td>\n",
       "      <td>3.22</td>\n",
       "    </tr>\n",
       "    <tr>\n",
       "      <th>10</th>\n",
       "      <td>8.1</td>\n",
       "      <td>2.99</td>\n",
       "    </tr>\n",
       "  </tbody>\n",
       "</table>\n",
       "</div>"
      ],
      "text/plain": [
       "    fixed acidity    pH\n",
       "5             8.1  3.26\n",
       "6             6.2  3.18\n",
       "7             7.0  3.00\n",
       "8             6.3  3.30\n",
       "9             8.1  3.22\n",
       "10            8.1  2.99"
      ]
     },
     "execution_count": 5,
     "metadata": {},
     "output_type": "execute_result"
    }
   ],
   "source": [
    "df_white[\"fixed acidity\"] # Access a column in the dataframe\n",
    "df_white.loc[5:10, [\"fixed acidity\", \"pH\"]] # Access multiple columns in the dataframe and rows by index"
   ]
  },
  {
   "cell_type": "code",
   "execution_count": 6,
   "id": "5b12b1bb",
   "metadata": {},
   "outputs": [
    {
     "data": {
      "application/vnd.microsoft.datawrangler.viewer.v0+json": {
       "columns": [
        {
         "name": "quality",
         "rawType": "int64",
         "type": "integer"
        },
        {
         "name": "alcohol",
         "rawType": "float64",
         "type": "float"
        }
       ],
       "ref": "885a8768-f478-4a46-a417-b961289c8fce",
       "rows": [
        [
         "3",
         "10.345"
        ],
        [
         "4",
         "10.15245398773006"
        ],
        [
         "5",
         "9.808840082361016"
        ],
        [
         "6",
         "10.575371549893843"
        ],
        [
         "7",
         "11.367935606060605"
        ],
        [
         "8",
         "11.636"
        ],
        [
         "9",
         "12.18"
        ]
       ],
       "shape": {
        "columns": 1,
        "rows": 7
       }
      },
      "text/plain": [
       "quality\n",
       "3    10.345000\n",
       "4    10.152454\n",
       "5     9.808840\n",
       "6    10.575372\n",
       "7    11.367936\n",
       "8    11.636000\n",
       "9    12.180000\n",
       "Name: alcohol, dtype: float64"
      ]
     },
     "execution_count": 6,
     "metadata": {},
     "output_type": "execute_result"
    }
   ],
   "source": [
    "df_white.groupby('quality')['alcohol'].mean() # Group by quality and calculate the mean of alcohol content"
   ]
  },
  {
   "cell_type": "code",
   "execution_count": 7,
   "id": "928f4e91",
   "metadata": {},
   "outputs": [
    {
     "data": {
      "application/vnd.microsoft.datawrangler.viewer.v0+json": {
       "columns": [
        {
         "name": "index",
         "rawType": "int64",
         "type": "integer"
        },
        {
         "name": "fixed acidity",
         "rawType": "float64",
         "type": "float"
        },
        {
         "name": "volatile acidity",
         "rawType": "float64",
         "type": "float"
        },
        {
         "name": "citric acid",
         "rawType": "float64",
         "type": "float"
        },
        {
         "name": "residual sugar",
         "rawType": "float64",
         "type": "float"
        },
        {
         "name": "chlorides",
         "rawType": "float64",
         "type": "float"
        },
        {
         "name": "free sulfur dioxide",
         "rawType": "float64",
         "type": "float"
        },
        {
         "name": "total sulfur dioxide",
         "rawType": "float64",
         "type": "float"
        },
        {
         "name": "density",
         "rawType": "float64",
         "type": "float"
        },
        {
         "name": "pH",
         "rawType": "float64",
         "type": "float"
        },
        {
         "name": "sulphates",
         "rawType": "float64",
         "type": "float"
        },
        {
         "name": "alcohol",
         "rawType": "float64",
         "type": "float"
        },
        {
         "name": "quality",
         "rawType": "int64",
         "type": "integer"
        }
       ],
       "ref": "617ddcad-a1ea-479e-9aa2-32a757df2e70",
       "rows": [
        [
         "10",
         "8.1",
         "0.27",
         "0.41",
         "1.45",
         "0.033",
         "11.0",
         "63.0",
         "0.9908",
         "2.99",
         "0.56",
         "12.0",
         "5"
        ],
        [
         "11",
         "8.6",
         "0.23",
         "0.4",
         "4.2",
         "0.035",
         "17.0",
         "109.0",
         "0.9947",
         "3.14",
         "0.53",
         "9.7",
         "5"
        ],
        [
         "12",
         "7.9",
         "0.18",
         "0.37",
         "1.2",
         "0.04",
         "16.0",
         "75.0",
         "0.992",
         "3.18",
         "0.63",
         "10.8",
         "5"
        ],
        [
         "14",
         "8.3",
         "0.42",
         "0.62",
         "19.25",
         "0.04",
         "41.0",
         "172.0",
         "1.0002",
         "2.98",
         "0.67",
         "9.7",
         "5"
        ],
        [
         "19",
         "6.5",
         "0.31",
         "0.14",
         "7.5",
         "0.044",
         "34.0",
         "133.0",
         "0.9955",
         "3.22",
         "0.5",
         "9.5",
         "5"
        ],
        [
         "23",
         "7.6",
         "0.67",
         "0.14",
         "1.5",
         "0.074",
         "25.0",
         "168.0",
         "0.9937",
         "3.05",
         "0.51",
         "9.3",
         "5"
        ],
        [
         "34",
         "5.8",
         "0.27",
         "0.2",
         "14.95",
         "0.044",
         "22.0",
         "179.0",
         "0.9962",
         "3.37",
         "0.37",
         "10.2",
         "5"
        ],
        [
         "35",
         "7.3",
         "0.28",
         "0.43",
         "1.7",
         "0.08",
         "21.0",
         "123.0",
         "0.9905",
         "3.19",
         "0.42",
         "12.8",
         "5"
        ],
        [
         "36",
         "6.5",
         "0.39",
         "0.23",
         "5.4",
         "0.051",
         "25.0",
         "149.0",
         "0.9934",
         "3.24",
         "0.35",
         "10.0",
         "5"
        ],
        [
         "38",
         "7.3",
         "0.24",
         "0.39",
         "17.95",
         "0.057",
         "45.0",
         "149.0",
         "0.9999",
         "3.21",
         "0.36",
         "8.6",
         "5"
        ],
        [
         "39",
         "7.3",
         "0.24",
         "0.39",
         "17.95",
         "0.057",
         "45.0",
         "149.0",
         "0.9999",
         "3.21",
         "0.36",
         "8.6",
         "5"
        ],
        [
         "47",
         "6.2",
         "0.46",
         "0.25",
         "4.4",
         "0.066",
         "62.0",
         "207.0",
         "0.9939",
         "3.25",
         "0.52",
         "9.8",
         "5"
        ],
        [
         "49",
         "6.9",
         "0.19",
         "0.35",
         "5.0",
         "0.067",
         "32.0",
         "150.0",
         "0.995",
         "3.36",
         "0.48",
         "9.8",
         "5"
        ],
        [
         "62",
         "7.0",
         "0.47",
         "0.07",
         "1.1",
         "0.035",
         "17.0",
         "151.0",
         "0.991",
         "3.02",
         "0.34",
         "10.5",
         "5"
        ],
        [
         "65",
         "6.2",
         "0.35",
         "0.03",
         "1.2",
         "0.064",
         "29.0",
         "120.0",
         "0.9934",
         "3.22",
         "0.54",
         "9.1",
         "5"
        ],
        [
         "67",
         "6.7",
         "0.25",
         "0.13",
         "1.2",
         "0.041",
         "81.0",
         "174.0",
         "0.992",
         "3.14",
         "0.42",
         "9.8",
         "5"
        ],
        [
         "69",
         "7.4",
         "0.24",
         "0.29",
         "10.1",
         "0.05",
         "21.0",
         "105.0",
         "0.9962",
         "3.13",
         "0.35",
         "9.5",
         "5"
        ],
        [
         "71",
         "6.8",
         "0.3",
         "0.23",
         "4.6",
         "0.061",
         "50.5",
         "238.5",
         "0.9958",
         "3.32",
         "0.6",
         "9.5",
         "5"
        ],
        [
         "72",
         "6.0",
         "0.27",
         "0.28",
         "4.8",
         "0.063",
         "31.0",
         "201.0",
         "0.9964",
         "3.69",
         "0.71",
         "10.0",
         "5"
        ],
        [
         "75",
         "7.4",
         "0.24",
         "0.29",
         "10.1",
         "0.05",
         "21.0",
         "105.0",
         "0.9962",
         "3.13",
         "0.35",
         "9.5",
         "5"
        ],
        [
         "78",
         "7.4",
         "0.18",
         "0.3",
         "8.8",
         "0.064",
         "26.0",
         "103.0",
         "0.9961",
         "2.94",
         "0.56",
         "9.3",
         "5"
        ],
        [
         "79",
         "6.7",
         "0.54",
         "0.28",
         "5.4",
         "0.06",
         "21.0",
         "105.0",
         "0.9949",
         "3.27",
         "0.37",
         "9.0",
         "5"
        ],
        [
         "82",
         "7.1",
         "0.34",
         "0.2",
         "6.1",
         "0.063",
         "47.0",
         "164.0",
         "0.9946",
         "3.17",
         "0.42",
         "10.0",
         "5"
        ],
        [
         "84",
         "7.1",
         "0.43",
         "0.61",
         "11.8",
         "0.045",
         "54.0",
         "155.0",
         "0.9974",
         "3.11",
         "0.45",
         "8.7",
         "5"
        ],
        [
         "88",
         "7.1",
         "0.43",
         "0.61",
         "11.8",
         "0.045",
         "54.0",
         "155.0",
         "0.9974",
         "3.11",
         "0.45",
         "8.7",
         "5"
        ],
        [
         "91",
         "6.1",
         "0.27",
         "0.43",
         "7.5",
         "0.049",
         "65.0",
         "243.0",
         "0.9957",
         "3.12",
         "0.47",
         "9.0",
         "5"
        ],
        [
         "100",
         "7.4",
         "0.25",
         "0.37",
         "13.5",
         "0.06",
         "52.0",
         "192.0",
         "0.9975",
         "3.0",
         "0.44",
         "9.1",
         "5"
        ],
        [
         "101",
         "7.1",
         "0.12",
         "0.32",
         "9.6",
         "0.054",
         "64.0",
         "162.0",
         "0.9962",
         "3.4",
         "0.41",
         "9.4",
         "5"
        ],
        [
         "102",
         "6.0",
         "0.21",
         "0.24",
         "12.1",
         "0.05",
         "55.0",
         "164.0",
         "0.997",
         "3.34",
         "0.39",
         "9.4",
         "5"
        ],
        [
         "103",
         "7.5",
         "0.305",
         "0.4",
         "18.9",
         "0.059",
         "44.0",
         "170.0",
         "1.0",
         "2.99",
         "0.46",
         "9.0",
         "5"
        ],
        [
         "104",
         "7.4",
         "0.25",
         "0.37",
         "13.5",
         "0.06",
         "52.0",
         "192.0",
         "0.9975",
         "3.0",
         "0.44",
         "9.1",
         "5"
        ],
        [
         "106",
         "7.1",
         "0.12",
         "0.32",
         "9.6",
         "0.054",
         "64.0",
         "162.0",
         "0.9962",
         "3.4",
         "0.41",
         "9.4",
         "5"
        ],
        [
         "109",
         "6.9",
         "0.33",
         "0.28",
         "1.3",
         "0.051",
         "37.0",
         "187.0",
         "0.9927",
         "3.27",
         "0.6",
         "10.3",
         "5"
        ],
        [
         "111",
         "7.2",
         "0.27",
         "0.46",
         "18.75",
         "0.052",
         "45.0",
         "255.0",
         "1.0",
         "3.04",
         "0.52",
         "8.9",
         "5"
        ],
        [
         "112",
         "7.2",
         "0.31",
         "0.5",
         "13.3",
         "0.056",
         "68.0",
         "195.0",
         "0.9982",
         "3.01",
         "0.47",
         "9.2",
         "5"
        ],
        [
         "113",
         "6.7",
         "0.41",
         "0.34",
         "9.2",
         "0.049",
         "29.0",
         "150.0",
         "0.9968",
         "3.22",
         "0.51",
         "9.1",
         "5"
        ],
        [
         "114",
         "6.7",
         "0.41",
         "0.34",
         "9.2",
         "0.049",
         "29.0",
         "150.0",
         "0.9968",
         "3.22",
         "0.51",
         "9.1",
         "5"
        ],
        [
         "118",
         "7.2",
         "0.31",
         "0.5",
         "13.3",
         "0.056",
         "68.0",
         "195.0",
         "0.9982",
         "3.01",
         "0.47",
         "9.2",
         "5"
        ],
        [
         "119",
         "7.3",
         "0.32",
         "0.48",
         "13.3",
         "0.06",
         "57.0",
         "196.0",
         "0.9982",
         "3.04",
         "0.5",
         "9.2",
         "5"
        ],
        [
         "120",
         "5.9",
         "0.36",
         "0.04",
         "5.7",
         "0.046",
         "21.0",
         "87.0",
         "0.9934",
         "3.22",
         "0.51",
         "10.2",
         "5"
        ],
        [
         "121",
         "7.8",
         "0.24",
         "0.32",
         "12.2",
         "0.054",
         "42.0",
         "138.0",
         "0.9984",
         "3.01",
         "0.54",
         "8.8",
         "5"
        ],
        [
         "122",
         "7.4",
         "0.16",
         "0.31",
         "6.85",
         "0.059",
         "31.0",
         "131.0",
         "0.9952",
         "3.29",
         "0.34",
         "9.7",
         "5"
        ],
        [
         "126",
         "7.4",
         "0.39",
         "0.23",
         "7.0",
         "0.033",
         "29.0",
         "126.0",
         "0.994",
         "3.14",
         "0.42",
         "10.5",
         "5"
        ],
        [
         "130",
         "5.7",
         "0.26",
         "0.25",
         "10.4",
         "0.02",
         "7.0",
         "57.0",
         "0.994",
         "3.39",
         "0.37",
         "10.6",
         "5"
        ],
        [
         "132",
         "6.5",
         "0.425",
         "0.4",
         "13.1",
         "0.038",
         "59.0",
         "241.0",
         "0.9979",
         "3.23",
         "0.57",
         "9.0",
         "5"
        ],
        [
         "133",
         "6.6",
         "0.24",
         "0.27",
         "15.8",
         "0.035",
         "46.0",
         "188.0",
         "0.9982",
         "3.24",
         "0.51",
         "9.2",
         "5"
        ],
        [
         "134",
         "6.8",
         "0.27",
         "0.22",
         "8.1",
         "0.034",
         "55.0",
         "203.0",
         "0.9961",
         "3.19",
         "0.52",
         "8.9",
         "5"
        ],
        [
         "135",
         "6.7",
         "0.27",
         "0.31",
         "15.7",
         "0.036",
         "44.0",
         "179.0",
         "0.9979",
         "3.26",
         "0.56",
         "9.6",
         "5"
        ],
        [
         "137",
         "7.1",
         "0.37",
         "0.67",
         "10.5",
         "0.045",
         "49.0",
         "155.0",
         "0.9975",
         "3.16",
         "0.44",
         "8.7",
         "5"
        ],
        [
         "140",
         "6.3",
         "0.31",
         "0.34",
         "2.2",
         "0.045",
         "20.0",
         "77.0",
         "0.9927",
         "3.3",
         "0.43",
         "10.2",
         "5"
        ]
       ],
       "shape": {
        "columns": 12,
        "rows": 1457
       }
      },
      "text/html": [
       "<div>\n",
       "<style scoped>\n",
       "    .dataframe tbody tr th:only-of-type {\n",
       "        vertical-align: middle;\n",
       "    }\n",
       "\n",
       "    .dataframe tbody tr th {\n",
       "        vertical-align: top;\n",
       "    }\n",
       "\n",
       "    .dataframe thead th {\n",
       "        text-align: right;\n",
       "    }\n",
       "</style>\n",
       "<table border=\"1\" class=\"dataframe\">\n",
       "  <thead>\n",
       "    <tr style=\"text-align: right;\">\n",
       "      <th></th>\n",
       "      <th>fixed acidity</th>\n",
       "      <th>volatile acidity</th>\n",
       "      <th>citric acid</th>\n",
       "      <th>residual sugar</th>\n",
       "      <th>chlorides</th>\n",
       "      <th>free sulfur dioxide</th>\n",
       "      <th>total sulfur dioxide</th>\n",
       "      <th>density</th>\n",
       "      <th>pH</th>\n",
       "      <th>sulphates</th>\n",
       "      <th>alcohol</th>\n",
       "      <th>quality</th>\n",
       "    </tr>\n",
       "  </thead>\n",
       "  <tbody>\n",
       "    <tr>\n",
       "      <th>10</th>\n",
       "      <td>8.1</td>\n",
       "      <td>0.27</td>\n",
       "      <td>0.41</td>\n",
       "      <td>1.45</td>\n",
       "      <td>0.033</td>\n",
       "      <td>11.0</td>\n",
       "      <td>63.0</td>\n",
       "      <td>0.99080</td>\n",
       "      <td>2.99</td>\n",
       "      <td>0.56</td>\n",
       "      <td>12.0</td>\n",
       "      <td>5</td>\n",
       "    </tr>\n",
       "    <tr>\n",
       "      <th>11</th>\n",
       "      <td>8.6</td>\n",
       "      <td>0.23</td>\n",
       "      <td>0.40</td>\n",
       "      <td>4.20</td>\n",
       "      <td>0.035</td>\n",
       "      <td>17.0</td>\n",
       "      <td>109.0</td>\n",
       "      <td>0.99470</td>\n",
       "      <td>3.14</td>\n",
       "      <td>0.53</td>\n",
       "      <td>9.7</td>\n",
       "      <td>5</td>\n",
       "    </tr>\n",
       "    <tr>\n",
       "      <th>12</th>\n",
       "      <td>7.9</td>\n",
       "      <td>0.18</td>\n",
       "      <td>0.37</td>\n",
       "      <td>1.20</td>\n",
       "      <td>0.040</td>\n",
       "      <td>16.0</td>\n",
       "      <td>75.0</td>\n",
       "      <td>0.99200</td>\n",
       "      <td>3.18</td>\n",
       "      <td>0.63</td>\n",
       "      <td>10.8</td>\n",
       "      <td>5</td>\n",
       "    </tr>\n",
       "    <tr>\n",
       "      <th>14</th>\n",
       "      <td>8.3</td>\n",
       "      <td>0.42</td>\n",
       "      <td>0.62</td>\n",
       "      <td>19.25</td>\n",
       "      <td>0.040</td>\n",
       "      <td>41.0</td>\n",
       "      <td>172.0</td>\n",
       "      <td>1.00020</td>\n",
       "      <td>2.98</td>\n",
       "      <td>0.67</td>\n",
       "      <td>9.7</td>\n",
       "      <td>5</td>\n",
       "    </tr>\n",
       "    <tr>\n",
       "      <th>19</th>\n",
       "      <td>6.5</td>\n",
       "      <td>0.31</td>\n",
       "      <td>0.14</td>\n",
       "      <td>7.50</td>\n",
       "      <td>0.044</td>\n",
       "      <td>34.0</td>\n",
       "      <td>133.0</td>\n",
       "      <td>0.99550</td>\n",
       "      <td>3.22</td>\n",
       "      <td>0.50</td>\n",
       "      <td>9.5</td>\n",
       "      <td>5</td>\n",
       "    </tr>\n",
       "    <tr>\n",
       "      <th>...</th>\n",
       "      <td>...</td>\n",
       "      <td>...</td>\n",
       "      <td>...</td>\n",
       "      <td>...</td>\n",
       "      <td>...</td>\n",
       "      <td>...</td>\n",
       "      <td>...</td>\n",
       "      <td>...</td>\n",
       "      <td>...</td>\n",
       "      <td>...</td>\n",
       "      <td>...</td>\n",
       "      <td>...</td>\n",
       "    </tr>\n",
       "    <tr>\n",
       "      <th>4882</th>\n",
       "      <td>5.5</td>\n",
       "      <td>0.32</td>\n",
       "      <td>0.13</td>\n",
       "      <td>1.30</td>\n",
       "      <td>0.037</td>\n",
       "      <td>45.0</td>\n",
       "      <td>156.0</td>\n",
       "      <td>0.99184</td>\n",
       "      <td>3.26</td>\n",
       "      <td>0.38</td>\n",
       "      <td>10.7</td>\n",
       "      <td>5</td>\n",
       "    </tr>\n",
       "    <tr>\n",
       "      <th>4884</th>\n",
       "      <td>6.5</td>\n",
       "      <td>0.33</td>\n",
       "      <td>0.38</td>\n",
       "      <td>8.30</td>\n",
       "      <td>0.048</td>\n",
       "      <td>68.0</td>\n",
       "      <td>174.0</td>\n",
       "      <td>0.99492</td>\n",
       "      <td>3.14</td>\n",
       "      <td>0.50</td>\n",
       "      <td>9.6</td>\n",
       "      <td>5</td>\n",
       "    </tr>\n",
       "    <tr>\n",
       "      <th>4888</th>\n",
       "      <td>6.8</td>\n",
       "      <td>0.22</td>\n",
       "      <td>0.36</td>\n",
       "      <td>1.20</td>\n",
       "      <td>0.052</td>\n",
       "      <td>38.0</td>\n",
       "      <td>127.0</td>\n",
       "      <td>0.99330</td>\n",
       "      <td>3.04</td>\n",
       "      <td>0.54</td>\n",
       "      <td>9.2</td>\n",
       "      <td>5</td>\n",
       "    </tr>\n",
       "    <tr>\n",
       "      <th>4892</th>\n",
       "      <td>6.5</td>\n",
       "      <td>0.23</td>\n",
       "      <td>0.38</td>\n",
       "      <td>1.30</td>\n",
       "      <td>0.032</td>\n",
       "      <td>29.0</td>\n",
       "      <td>112.0</td>\n",
       "      <td>0.99298</td>\n",
       "      <td>3.29</td>\n",
       "      <td>0.54</td>\n",
       "      <td>9.7</td>\n",
       "      <td>5</td>\n",
       "    </tr>\n",
       "    <tr>\n",
       "      <th>4894</th>\n",
       "      <td>6.6</td>\n",
       "      <td>0.32</td>\n",
       "      <td>0.36</td>\n",
       "      <td>8.00</td>\n",
       "      <td>0.047</td>\n",
       "      <td>57.0</td>\n",
       "      <td>168.0</td>\n",
       "      <td>0.99490</td>\n",
       "      <td>3.15</td>\n",
       "      <td>0.46</td>\n",
       "      <td>9.6</td>\n",
       "      <td>5</td>\n",
       "    </tr>\n",
       "  </tbody>\n",
       "</table>\n",
       "<p>1457 rows × 12 columns</p>\n",
       "</div>"
      ],
      "text/plain": [
       "      fixed acidity  volatile acidity  citric acid  residual sugar  chlorides  \\\n",
       "10              8.1              0.27         0.41            1.45      0.033   \n",
       "11              8.6              0.23         0.40            4.20      0.035   \n",
       "12              7.9              0.18         0.37            1.20      0.040   \n",
       "14              8.3              0.42         0.62           19.25      0.040   \n",
       "19              6.5              0.31         0.14            7.50      0.044   \n",
       "...             ...               ...          ...             ...        ...   \n",
       "4882            5.5              0.32         0.13            1.30      0.037   \n",
       "4884            6.5              0.33         0.38            8.30      0.048   \n",
       "4888            6.8              0.22         0.36            1.20      0.052   \n",
       "4892            6.5              0.23         0.38            1.30      0.032   \n",
       "4894            6.6              0.32         0.36            8.00      0.047   \n",
       "\n",
       "      free sulfur dioxide  total sulfur dioxide  density    pH  sulphates  \\\n",
       "10                   11.0                  63.0  0.99080  2.99       0.56   \n",
       "11                   17.0                 109.0  0.99470  3.14       0.53   \n",
       "12                   16.0                  75.0  0.99200  3.18       0.63   \n",
       "14                   41.0                 172.0  1.00020  2.98       0.67   \n",
       "19                   34.0                 133.0  0.99550  3.22       0.50   \n",
       "...                   ...                   ...      ...   ...        ...   \n",
       "4882                 45.0                 156.0  0.99184  3.26       0.38   \n",
       "4884                 68.0                 174.0  0.99492  3.14       0.50   \n",
       "4888                 38.0                 127.0  0.99330  3.04       0.54   \n",
       "4892                 29.0                 112.0  0.99298  3.29       0.54   \n",
       "4894                 57.0                 168.0  0.99490  3.15       0.46   \n",
       "\n",
       "      alcohol  quality  \n",
       "10       12.0        5  \n",
       "11        9.7        5  \n",
       "12       10.8        5  \n",
       "14        9.7        5  \n",
       "19        9.5        5  \n",
       "...       ...      ...  \n",
       "4882     10.7        5  \n",
       "4884      9.6        5  \n",
       "4888      9.2        5  \n",
       "4892      9.7        5  \n",
       "4894      9.6        5  \n",
       "\n",
       "[1457 rows x 12 columns]"
      ]
     },
     "execution_count": 7,
     "metadata": {},
     "output_type": "execute_result"
    }
   ],
   "source": [
    "quality_level = 5\n",
    "df_white.query('quality == @quality_level') # Query the dataframe for a specific quality level"
   ]
  },
  {
   "cell_type": "code",
   "execution_count": 8,
   "id": "97d39b85",
   "metadata": {},
   "outputs": [
    {
     "data": {
      "application/vnd.microsoft.datawrangler.viewer.v0+json": {
       "columns": [
        {
         "name": "index",
         "rawType": "int64",
         "type": "integer"
        },
        {
         "name": "fixed acidity",
         "rawType": "float64",
         "type": "float"
        },
        {
         "name": "volatile acidity",
         "rawType": "float64",
         "type": "float"
        },
        {
         "name": "citric acid",
         "rawType": "float64",
         "type": "float"
        },
        {
         "name": "residual sugar",
         "rawType": "float64",
         "type": "float"
        },
        {
         "name": "chlorides",
         "rawType": "float64",
         "type": "float"
        },
        {
         "name": "free sulfur dioxide",
         "rawType": "float64",
         "type": "float"
        },
        {
         "name": "total sulfur dioxide",
         "rawType": "float64",
         "type": "float"
        },
        {
         "name": "density",
         "rawType": "float64",
         "type": "float"
        },
        {
         "name": "pH",
         "rawType": "float64",
         "type": "float"
        },
        {
         "name": "sulphates",
         "rawType": "float64",
         "type": "float"
        },
        {
         "name": "alcohol",
         "rawType": "float64",
         "type": "float"
        },
        {
         "name": "quality",
         "rawType": "int64",
         "type": "integer"
        },
        {
         "name": "total_acidity",
         "rawType": "float64",
         "type": "float"
        }
       ],
       "ref": "7d84ee8d-e306-4276-9b24-ef99dbf2afab",
       "rows": [
        [
         "0",
         "7.0",
         "0.27",
         "0.36",
         "20.7",
         "0.045",
         "45.0",
         "170.0",
         "1.001",
         "3.0",
         "0.45",
         "8.8",
         "6",
         "7.27"
        ],
        [
         "1",
         "6.3",
         "0.3",
         "0.34",
         "1.6",
         "0.049",
         "14.0",
         "132.0",
         "0.994",
         "3.3",
         "0.49",
         "9.5",
         "6",
         "6.6"
        ],
        [
         "2",
         "8.1",
         "0.28",
         "0.4",
         "6.9",
         "0.05",
         "30.0",
         "97.0",
         "0.9951",
         "3.26",
         "0.44",
         "10.1",
         "6",
         "8.379999999999999"
        ],
        [
         "3",
         "7.2",
         "0.23",
         "0.32",
         "8.5",
         "0.058",
         "47.0",
         "186.0",
         "0.9956",
         "3.19",
         "0.4",
         "9.9",
         "6",
         "7.430000000000001"
        ],
        [
         "4",
         "7.2",
         "0.23",
         "0.32",
         "8.5",
         "0.058",
         "47.0",
         "186.0",
         "0.9956",
         "3.19",
         "0.4",
         "9.9",
         "6",
         "7.430000000000001"
        ]
       ],
       "shape": {
        "columns": 13,
        "rows": 5
       }
      },
      "text/html": [
       "<div>\n",
       "<style scoped>\n",
       "    .dataframe tbody tr th:only-of-type {\n",
       "        vertical-align: middle;\n",
       "    }\n",
       "\n",
       "    .dataframe tbody tr th {\n",
       "        vertical-align: top;\n",
       "    }\n",
       "\n",
       "    .dataframe thead th {\n",
       "        text-align: right;\n",
       "    }\n",
       "</style>\n",
       "<table border=\"1\" class=\"dataframe\">\n",
       "  <thead>\n",
       "    <tr style=\"text-align: right;\">\n",
       "      <th></th>\n",
       "      <th>fixed acidity</th>\n",
       "      <th>volatile acidity</th>\n",
       "      <th>citric acid</th>\n",
       "      <th>residual sugar</th>\n",
       "      <th>chlorides</th>\n",
       "      <th>free sulfur dioxide</th>\n",
       "      <th>total sulfur dioxide</th>\n",
       "      <th>density</th>\n",
       "      <th>pH</th>\n",
       "      <th>sulphates</th>\n",
       "      <th>alcohol</th>\n",
       "      <th>quality</th>\n",
       "      <th>total_acidity</th>\n",
       "    </tr>\n",
       "  </thead>\n",
       "  <tbody>\n",
       "    <tr>\n",
       "      <th>0</th>\n",
       "      <td>7.0</td>\n",
       "      <td>0.27</td>\n",
       "      <td>0.36</td>\n",
       "      <td>20.7</td>\n",
       "      <td>0.045</td>\n",
       "      <td>45.0</td>\n",
       "      <td>170.0</td>\n",
       "      <td>1.0010</td>\n",
       "      <td>3.00</td>\n",
       "      <td>0.45</td>\n",
       "      <td>8.8</td>\n",
       "      <td>6</td>\n",
       "      <td>7.27</td>\n",
       "    </tr>\n",
       "    <tr>\n",
       "      <th>1</th>\n",
       "      <td>6.3</td>\n",
       "      <td>0.30</td>\n",
       "      <td>0.34</td>\n",
       "      <td>1.6</td>\n",
       "      <td>0.049</td>\n",
       "      <td>14.0</td>\n",
       "      <td>132.0</td>\n",
       "      <td>0.9940</td>\n",
       "      <td>3.30</td>\n",
       "      <td>0.49</td>\n",
       "      <td>9.5</td>\n",
       "      <td>6</td>\n",
       "      <td>6.60</td>\n",
       "    </tr>\n",
       "    <tr>\n",
       "      <th>2</th>\n",
       "      <td>8.1</td>\n",
       "      <td>0.28</td>\n",
       "      <td>0.40</td>\n",
       "      <td>6.9</td>\n",
       "      <td>0.050</td>\n",
       "      <td>30.0</td>\n",
       "      <td>97.0</td>\n",
       "      <td>0.9951</td>\n",
       "      <td>3.26</td>\n",
       "      <td>0.44</td>\n",
       "      <td>10.1</td>\n",
       "      <td>6</td>\n",
       "      <td>8.38</td>\n",
       "    </tr>\n",
       "    <tr>\n",
       "      <th>3</th>\n",
       "      <td>7.2</td>\n",
       "      <td>0.23</td>\n",
       "      <td>0.32</td>\n",
       "      <td>8.5</td>\n",
       "      <td>0.058</td>\n",
       "      <td>47.0</td>\n",
       "      <td>186.0</td>\n",
       "      <td>0.9956</td>\n",
       "      <td>3.19</td>\n",
       "      <td>0.40</td>\n",
       "      <td>9.9</td>\n",
       "      <td>6</td>\n",
       "      <td>7.43</td>\n",
       "    </tr>\n",
       "    <tr>\n",
       "      <th>4</th>\n",
       "      <td>7.2</td>\n",
       "      <td>0.23</td>\n",
       "      <td>0.32</td>\n",
       "      <td>8.5</td>\n",
       "      <td>0.058</td>\n",
       "      <td>47.0</td>\n",
       "      <td>186.0</td>\n",
       "      <td>0.9956</td>\n",
       "      <td>3.19</td>\n",
       "      <td>0.40</td>\n",
       "      <td>9.9</td>\n",
       "      <td>6</td>\n",
       "      <td>7.43</td>\n",
       "    </tr>\n",
       "  </tbody>\n",
       "</table>\n",
       "</div>"
      ],
      "text/plain": [
       "   fixed acidity  volatile acidity  citric acid  residual sugar  chlorides  \\\n",
       "0            7.0              0.27         0.36            20.7      0.045   \n",
       "1            6.3              0.30         0.34             1.6      0.049   \n",
       "2            8.1              0.28         0.40             6.9      0.050   \n",
       "3            7.2              0.23         0.32             8.5      0.058   \n",
       "4            7.2              0.23         0.32             8.5      0.058   \n",
       "\n",
       "   free sulfur dioxide  total sulfur dioxide  density    pH  sulphates  \\\n",
       "0                 45.0                 170.0   1.0010  3.00       0.45   \n",
       "1                 14.0                 132.0   0.9940  3.30       0.49   \n",
       "2                 30.0                  97.0   0.9951  3.26       0.44   \n",
       "3                 47.0                 186.0   0.9956  3.19       0.40   \n",
       "4                 47.0                 186.0   0.9956  3.19       0.40   \n",
       "\n",
       "   alcohol  quality  total_acidity  \n",
       "0      8.8        6           7.27  \n",
       "1      9.5        6           6.60  \n",
       "2     10.1        6           8.38  \n",
       "3      9.9        6           7.43  \n",
       "4      9.9        6           7.43  "
      ]
     },
     "execution_count": 8,
     "metadata": {},
     "output_type": "execute_result"
    }
   ],
   "source": [
    "df_white_copy = df_white.copy() # Create a deep copy of the dataframe to avoid modifying the original one\n",
    "\n",
    "# Combine fixed and volatile acidity into a new column called total_acidity\n",
    "df_white_copy['total_acidity'] = df_white_copy['fixed acidity'] + df_white_copy['volatile acidity']\n",
    "df_white_copy.head()"
   ]
  },
  {
   "cell_type": "code",
   "execution_count": 9,
   "id": "0b688ca3",
   "metadata": {},
   "outputs": [
    {
     "data": {
      "application/vnd.microsoft.datawrangler.viewer.v0+json": {
       "columns": [
        {
         "name": "index",
         "rawType": "int64",
         "type": "integer"
        },
        {
         "name": "fixed acidity",
         "rawType": "float64",
         "type": "float"
        },
        {
         "name": "volatile acidity",
         "rawType": "float64",
         "type": "float"
        },
        {
         "name": "citric acid",
         "rawType": "float64",
         "type": "float"
        },
        {
         "name": "residual sugar",
         "rawType": "float64",
         "type": "float"
        },
        {
         "name": "chlorides",
         "rawType": "float64",
         "type": "float"
        },
        {
         "name": "free sulfur dioxide",
         "rawType": "float64",
         "type": "float"
        },
        {
         "name": "total sulfur dioxide",
         "rawType": "float64",
         "type": "float"
        },
        {
         "name": "density",
         "rawType": "float64",
         "type": "float"
        },
        {
         "name": "pH",
         "rawType": "float64",
         "type": "float"
        },
        {
         "name": "sulphates",
         "rawType": "float64",
         "type": "float"
        },
        {
         "name": "alcohol",
         "rawType": "float64",
         "type": "float"
        },
        {
         "name": "quality",
         "rawType": "int64",
         "type": "integer"
        },
        {
         "name": "total_acidity",
         "rawType": "float64",
         "type": "float"
        },
        {
         "name": "origin",
         "rawType": "object",
         "type": "string"
        }
       ],
       "ref": "e13475a8-f0ff-430d-b5c3-7af07113712e",
       "rows": [
        [
         "0",
         "7.0",
         "0.27",
         "0.36",
         "20.7",
         "0.045",
         "45.0",
         "170.0",
         "1.001",
         "3.0",
         "0.45",
         "8.8",
         "6",
         "7.27",
         "unknown"
        ],
        [
         "1",
         "6.3",
         "0.3",
         "0.34",
         "1.6",
         "0.049",
         "14.0",
         "132.0",
         "0.994",
         "3.3",
         "0.49",
         "9.5",
         "6",
         "6.6",
         "unknown"
        ],
        [
         "2",
         "8.1",
         "0.28",
         "0.4",
         "6.9",
         "0.05",
         "30.0",
         "97.0",
         "0.9951",
         "3.26",
         "0.44",
         "10.1",
         "6",
         "8.379999999999999",
         "unknown"
        ],
        [
         "3",
         "7.2",
         "0.23",
         "0.32",
         "8.5",
         "0.058",
         "47.0",
         "186.0",
         "0.9956",
         "3.19",
         "0.4",
         "9.9",
         "6",
         "7.430000000000001",
         "unknown"
        ],
        [
         "4",
         "7.2",
         "0.23",
         "0.32",
         "8.5",
         "0.058",
         "47.0",
         "186.0",
         "0.9956",
         "3.19",
         "0.4",
         "9.9",
         "6",
         "7.430000000000001",
         "unknown"
        ]
       ],
       "shape": {
        "columns": 14,
        "rows": 5
       }
      },
      "text/html": [
       "<div>\n",
       "<style scoped>\n",
       "    .dataframe tbody tr th:only-of-type {\n",
       "        vertical-align: middle;\n",
       "    }\n",
       "\n",
       "    .dataframe tbody tr th {\n",
       "        vertical-align: top;\n",
       "    }\n",
       "\n",
       "    .dataframe thead th {\n",
       "        text-align: right;\n",
       "    }\n",
       "</style>\n",
       "<table border=\"1\" class=\"dataframe\">\n",
       "  <thead>\n",
       "    <tr style=\"text-align: right;\">\n",
       "      <th></th>\n",
       "      <th>fixed acidity</th>\n",
       "      <th>volatile acidity</th>\n",
       "      <th>citric acid</th>\n",
       "      <th>residual sugar</th>\n",
       "      <th>chlorides</th>\n",
       "      <th>free sulfur dioxide</th>\n",
       "      <th>total sulfur dioxide</th>\n",
       "      <th>density</th>\n",
       "      <th>pH</th>\n",
       "      <th>sulphates</th>\n",
       "      <th>alcohol</th>\n",
       "      <th>quality</th>\n",
       "      <th>total_acidity</th>\n",
       "      <th>origin</th>\n",
       "    </tr>\n",
       "  </thead>\n",
       "  <tbody>\n",
       "    <tr>\n",
       "      <th>0</th>\n",
       "      <td>7.0</td>\n",
       "      <td>0.27</td>\n",
       "      <td>0.36</td>\n",
       "      <td>20.7</td>\n",
       "      <td>0.045</td>\n",
       "      <td>45.0</td>\n",
       "      <td>170.0</td>\n",
       "      <td>1.0010</td>\n",
       "      <td>3.00</td>\n",
       "      <td>0.45</td>\n",
       "      <td>8.8</td>\n",
       "      <td>6</td>\n",
       "      <td>7.27</td>\n",
       "      <td>unknown</td>\n",
       "    </tr>\n",
       "    <tr>\n",
       "      <th>1</th>\n",
       "      <td>6.3</td>\n",
       "      <td>0.30</td>\n",
       "      <td>0.34</td>\n",
       "      <td>1.6</td>\n",
       "      <td>0.049</td>\n",
       "      <td>14.0</td>\n",
       "      <td>132.0</td>\n",
       "      <td>0.9940</td>\n",
       "      <td>3.30</td>\n",
       "      <td>0.49</td>\n",
       "      <td>9.5</td>\n",
       "      <td>6</td>\n",
       "      <td>6.60</td>\n",
       "      <td>unknown</td>\n",
       "    </tr>\n",
       "    <tr>\n",
       "      <th>2</th>\n",
       "      <td>8.1</td>\n",
       "      <td>0.28</td>\n",
       "      <td>0.40</td>\n",
       "      <td>6.9</td>\n",
       "      <td>0.050</td>\n",
       "      <td>30.0</td>\n",
       "      <td>97.0</td>\n",
       "      <td>0.9951</td>\n",
       "      <td>3.26</td>\n",
       "      <td>0.44</td>\n",
       "      <td>10.1</td>\n",
       "      <td>6</td>\n",
       "      <td>8.38</td>\n",
       "      <td>unknown</td>\n",
       "    </tr>\n",
       "    <tr>\n",
       "      <th>3</th>\n",
       "      <td>7.2</td>\n",
       "      <td>0.23</td>\n",
       "      <td>0.32</td>\n",
       "      <td>8.5</td>\n",
       "      <td>0.058</td>\n",
       "      <td>47.0</td>\n",
       "      <td>186.0</td>\n",
       "      <td>0.9956</td>\n",
       "      <td>3.19</td>\n",
       "      <td>0.40</td>\n",
       "      <td>9.9</td>\n",
       "      <td>6</td>\n",
       "      <td>7.43</td>\n",
       "      <td>unknown</td>\n",
       "    </tr>\n",
       "    <tr>\n",
       "      <th>4</th>\n",
       "      <td>7.2</td>\n",
       "      <td>0.23</td>\n",
       "      <td>0.32</td>\n",
       "      <td>8.5</td>\n",
       "      <td>0.058</td>\n",
       "      <td>47.0</td>\n",
       "      <td>186.0</td>\n",
       "      <td>0.9956</td>\n",
       "      <td>3.19</td>\n",
       "      <td>0.40</td>\n",
       "      <td>9.9</td>\n",
       "      <td>6</td>\n",
       "      <td>7.43</td>\n",
       "      <td>unknown</td>\n",
       "    </tr>\n",
       "  </tbody>\n",
       "</table>\n",
       "</div>"
      ],
      "text/plain": [
       "   fixed acidity  volatile acidity  citric acid  residual sugar  chlorides  \\\n",
       "0            7.0              0.27         0.36            20.7      0.045   \n",
       "1            6.3              0.30         0.34             1.6      0.049   \n",
       "2            8.1              0.28         0.40             6.9      0.050   \n",
       "3            7.2              0.23         0.32             8.5      0.058   \n",
       "4            7.2              0.23         0.32             8.5      0.058   \n",
       "\n",
       "   free sulfur dioxide  total sulfur dioxide  density    pH  sulphates  \\\n",
       "0                 45.0                 170.0   1.0010  3.00       0.45   \n",
       "1                 14.0                 132.0   0.9940  3.30       0.49   \n",
       "2                 30.0                  97.0   0.9951  3.26       0.44   \n",
       "3                 47.0                 186.0   0.9956  3.19       0.40   \n",
       "4                 47.0                 186.0   0.9956  3.19       0.40   \n",
       "\n",
       "   alcohol  quality  total_acidity   origin  \n",
       "0      8.8        6           7.27  unknown  \n",
       "1      9.5        6           6.60  unknown  \n",
       "2     10.1        6           8.38  unknown  \n",
       "3      9.9        6           7.43  unknown  \n",
       "4      9.9        6           7.43  unknown  "
      ]
     },
     "execution_count": 9,
     "metadata": {},
     "output_type": "execute_result"
    }
   ],
   "source": [
    "df_white_copy['origin'] = \"unknown\" # Add a new column 'origin' with default value \"unknown\"\n",
    "df_white_copy.head()"
   ]
  },
  {
   "cell_type": "code",
   "execution_count": 10,
   "id": "47c83d8f",
   "metadata": {},
   "outputs": [
    {
     "name": "stdout",
     "output_type": "stream",
     "text": [
      "<class 'pandas.core.frame.DataFrame'>\n",
      "RangeIndex: 4898 entries, 0 to 4897\n",
      "Data columns (total 14 columns):\n",
      " #   Column                Non-Null Count  Dtype  \n",
      "---  ------                --------------  -----  \n",
      " 0   fixed acidity         4898 non-null   float64\n",
      " 1   volatile acidity      4898 non-null   float64\n",
      " 2   citric acid           4898 non-null   float64\n",
      " 3   residual sugar        4898 non-null   float64\n",
      " 4   chlorides             4898 non-null   float64\n",
      " 5   free sulfur dioxide   4898 non-null   float64\n",
      " 6   total sulfur dioxide  4898 non-null   float64\n",
      " 7   density               4898 non-null   float64\n",
      " 8   pH                    4898 non-null   float64\n",
      " 9   sulphates             4898 non-null   float64\n",
      " 10  alcohol               4898 non-null   float64\n",
      " 11  quality               4898 non-null   int64  \n",
      " 12  total_acidity         4898 non-null   float64\n",
      " 13  origin                4898 non-null   object \n",
      "dtypes: float64(12), int64(1), object(1)\n",
      "memory usage: 535.8+ KB\n"
     ]
    }
   ],
   "source": [
    "df_white_copy.info() # Check the information of the modified dataframe"
   ]
  },
  {
   "cell_type": "code",
   "execution_count": 11,
   "id": "78f3558b",
   "metadata": {},
   "outputs": [],
   "source": [
    "df_white_copy['origin'] = df_white_copy['origin'].astype('category') # Change the type of origin to category"
   ]
  },
  {
   "cell_type": "code",
   "execution_count": 12,
   "id": "4a3730bc",
   "metadata": {},
   "outputs": [
    {
     "name": "stdout",
     "output_type": "stream",
     "text": [
      "<class 'pandas.core.frame.DataFrame'>\n",
      "RangeIndex: 4898 entries, 0 to 4897\n",
      "Data columns (total 14 columns):\n",
      " #   Column                Non-Null Count  Dtype   \n",
      "---  ------                --------------  -----   \n",
      " 0   fixed acidity         4898 non-null   float64 \n",
      " 1   volatile acidity      4898 non-null   float64 \n",
      " 2   citric acid           4898 non-null   float64 \n",
      " 3   residual sugar        4898 non-null   float64 \n",
      " 4   chlorides             4898 non-null   float64 \n",
      " 5   free sulfur dioxide   4898 non-null   float64 \n",
      " 6   total sulfur dioxide  4898 non-null   float64 \n",
      " 7   density               4898 non-null   float64 \n",
      " 8   pH                    4898 non-null   float64 \n",
      " 9   sulphates             4898 non-null   float64 \n",
      " 10  alcohol               4898 non-null   float64 \n",
      " 11  quality               4898 non-null   int64   \n",
      " 12  total_acidity         4898 non-null   float64 \n",
      " 13  origin                4898 non-null   category\n",
      "dtypes: category(1), float64(12), int64(1)\n",
      "memory usage: 502.5 KB\n"
     ]
    }
   ],
   "source": [
    "df_white_copy.info() # Check the information of the modified dataframe again to see the changes"
   ]
  },
  {
   "cell_type": "markdown",
   "id": "c36bec3f",
   "metadata": {},
   "source": [
    "## Plotting\n",
    "---\n",
    "### Pure matplotlib API\n",
    "Plotting artificial time series data"
   ]
  },
  {
   "cell_type": "code",
   "execution_count": 13,
   "id": "70a77526",
   "metadata": {},
   "outputs": [],
   "source": [
    "import matplotlib.pyplot as plt\n",
    "import numpy as np\n",
    "\n",
    "# Generate example data\n",
    "np.random.seed(0)\n",
    "x = np.linspace(0, 10, 100)\n",
    "y = np.sin(x) + np.random.normal(scale=0.1, size=100)  # noisy sine wave"
   ]
  },
  {
   "cell_type": "code",
   "execution_count": 14,
   "id": "f4ae7a06",
   "metadata": {},
   "outputs": [
    {
     "data": {
      "image/png": "[encoded data removed]",
      "text/plain": [
       "<Figure size 640x480 with 1 Axes>"
      ]
     },
     "metadata": {},
     "output_type": "display_data"
    }
   ],
   "source": [
    "# Set the style for the plot\n",
    "plt.rcParams['font.family'] = 'Arial'\n",
    "plt.rcParams['font.size'] = 12\n",
    "\n",
    "# Create a time series plot\n",
    "plt.figure()\n",
    "plt.plot(x, y, label='Signal')\n",
    "plt.xlabel('Time / h')\n",
    "plt.ylabel('Amplitude / a.u.')\n",
    "plt.title('Time series data')\n",
    "plt.legend()\n",
    "plt.grid(True)\n",
    "plt.tight_layout()\n",
    "plt.show()"
   ]
  },
  {
   "cell_type": "markdown",
   "id": "72c2b1cc",
   "metadata": {},
   "source": [
    "### Pandas built-in plotting"
   ]
  },
  {
   "cell_type": "code",
   "execution_count": 15,
   "id": "776b2ca9",
   "metadata": {},
   "outputs": [
    {
     "data": {
      "text/plain": [
       "<Axes: title={'center': 'Quality > 7'}, xlabel='fixed acidity', ylabel='alcohol'>"
      ]
     },
     "execution_count": 15,
     "metadata": {},
     "output_type": "execute_result"
    },
    {
     "data": {
      "image/png": "[encoded data removed]",
      "text/plain": [
       "<Figure size 640x480 with 1 Axes>"
      ]
     },
     "metadata": {},
     "output_type": "display_data"
    }
   ],
   "source": [
    "quality_level = 7\n",
    "\n",
    "# Create a scatter plot for wines with quality greater than the specified level\n",
    "df_white.query('quality > @quality_level').plot(\n",
    "    kind='scatter',\n",
    "    x='fixed acidity',\n",
    "    y='alcohol',\n",
    "    title=f'Quality > {quality_level}',\n",
    ")"
   ]
  },
  {
   "cell_type": "markdown",
   "id": "dcab22b6",
   "metadata": {},
   "source": [
    "Enhance visual appearence"
   ]
  },
  {
   "cell_type": "code",
   "execution_count": 16,
   "id": "5befda46",
   "metadata": {},
   "outputs": [
    {
     "data": {
      "image/png": "[encoded data removed]",
      "text/plain": [
       "<Figure size 640x480 with 2 Axes>"
      ]
     },
     "metadata": {},
     "output_type": "display_data"
    }
   ],
   "source": [
    "plt.figure()\n",
    "\n",
    "# Filter data\n",
    "filtered_df = df_white.query('quality > @quality_level')\n",
    "\n",
    "# Create scatter plot\n",
    "sc = plt.scatter(\n",
    "    filtered_df['fixed acidity'],\n",
    "    filtered_df['alcohol'],\n",
    "    c=filtered_df['quality'],\n",
    "    cmap='viridis',\n",
    "    alpha=0.6\n",
    ")\n",
    "\n",
    "# Set titles and labels\n",
    "plt.title(f'Quality level > {quality_level}')\n",
    "plt.xlabel('Fixed acidity / a.u.')\n",
    "plt.ylabel('Alcohol content / vol%')\n",
    "\n",
    "# Add colorbar\n",
    "cbar = plt.colorbar(sc)\n",
    "cbar.set_label('Quality level')\n",
    "\n",
    "# Adjust layout and save\n",
    "plt.tight_layout()\n",
    "plt.savefig(f'quality_{quality_level}_alcohol_vs_fixed_acidity.png')\n",
    "plt.show()"
   ]
  },
  {
   "cell_type": "markdown",
   "id": "9fe494be",
   "metadata": {},
   "source": [
    "## Confidence intervall\n",
    "---\n",
    "\n",
    "When you estimate the mean of a population you often want to provide a range of values that is likely to contain the true population parameter. This is the confidence interval (CI).\n",
    "\n",
    "### $t$-statistic (one sample mean)\n",
    "\n",
    "When the population standard deviation is unknown (common in practice) and sample size is small (<30), you use the $t$-distribution instead of normal ($z$) distribution\n",
    "\n",
    "$$\n",
    "\\text{CI} = \\bar{x} \\pm t \\cdot \\frac{s}{\\sqrt{n}}\n",
    "$$\n",
    "\n",
    "where $\\bar{x}$ is sample mean $s$ is sample standard deviation, $n$ sample size, $t$ critical $t$-value for the desired confidence level (e.g. 95%) with $n-1$ degrees of freedom"
   ]
  },
  {
   "cell_type": "code",
   "execution_count": 17,
   "id": "489c830a",
   "metadata": {},
   "outputs": [
    {
     "data": {
      "application/vnd.microsoft.datawrangler.viewer.v0+json": {
       "columns": [
        {
         "name": "index",
         "rawType": "object",
         "type": "string"
        },
        {
         "name": "alcohol",
         "rawType": "float64",
         "type": "float"
        }
       ],
       "ref": "d70e8c24-d49f-47b0-bf8a-5a16d940cd9f",
       "rows": [
        [
         "count",
         "20.0"
        ],
        [
         "mean",
         "10.344999999999999"
        ],
        [
         "std",
         "1.22408935002397"
        ],
        [
         "min",
         "8.0"
        ],
        [
         "25%",
         "9.55"
        ],
        [
         "50%",
         "10.45"
        ],
        [
         "75%",
         "11.0"
        ],
        [
         "max",
         "12.6"
        ]
       ],
       "shape": {
        "columns": 1,
        "rows": 8
       }
      },
      "text/plain": [
       "count    20.000000\n",
       "mean     10.345000\n",
       "std       1.224089\n",
       "min       8.000000\n",
       "25%       9.550000\n",
       "50%      10.450000\n",
       "75%      11.000000\n",
       "max      12.600000\n",
       "Name: alcohol, dtype: float64"
      ]
     },
     "execution_count": 17,
     "metadata": {},
     "output_type": "execute_result"
    }
   ],
   "source": [
    "data = df_white.query('quality == 3')['alcohol']\n",
    "data.describe()"
   ]
  },
  {
   "cell_type": "code",
   "execution_count": 18,
   "id": "6c0dba38",
   "metadata": {},
   "outputs": [
    {
     "name": "stdout",
     "output_type": "stream",
     "text": [
      "Sample mean: 10.34\n",
      "95% confidence interval: (9.77, 10.92) for n = 20\n"
     ]
    }
   ],
   "source": [
    "sem = stats.sem(data)  # equivalent to np.std(data, ddof=1) / np.sqrt(len(data))\n",
    "\n",
    "confidence = 0.95\n",
    "\n",
    "t = stats.t.ppf((1 + confidence) / 2, len(data)-1)\n",
    "\n",
    "margin_of_error = t * sem\n",
    "\n",
    "mean = data.mean()\n",
    "\n",
    "ci_lower = mean - margin_of_error\n",
    "ci_upper = mean + margin_of_error\n",
    "\n",
    "print(f\"Sample mean: {mean:.2f}\")\n",
    "print(f\"95% confidence interval: ({ci_lower:.2f}, {ci_upper:.2f}) for n = {len(data)}\")"
   ]
  },
  {
   "cell_type": "markdown",
   "id": "1a0c6dc2",
   "metadata": {},
   "source": [
    "## Hypothesis testing\n",
    "---"
   ]
  },
  {
   "cell_type": "code",
   "execution_count": 20,
   "id": "dadac74f",
   "metadata": {},
   "outputs": [],
   "source": [
    "df_red = pd.read_csv(\"data/winequality-red.csv\", delimiter=\";\")\n",
    "df_white = pd.read_csv(\"data/winequality-white.csv\", delimiter=\";\")\n",
    "\n",
    "#DataFrame consisting only of fixed acidities:\n",
    "df_fa = pd.concat([df_red[\"fixed acidity\"], df_white[\"fixed acidity\"]], ignore_index=True, axis=1)\n",
    "df_fa.columns = ['red', 'white']"
   ]
  },
  {
   "cell_type": "code",
   "execution_count": null,
   "id": "a13f8b49",
   "metadata": {},
   "outputs": [
    {
     "data": {
      "text/plain": [
       "<Axes: >"
      ]
     },
     "execution_count": 21,
     "metadata": {},
     "output_type": "execute_result"
    },
    {
     "data": {
      "image/png": "[encoded data removed]",
      "text/plain": [
       "<Figure size 640x480 with 1 Axes>"
      ]
     },
     "metadata": {},
     "output_type": "display_data"
    }
   ],
   "source": [
    "import seaborn as sns\n",
    "\n",
    "sns.boxplot(data = df_fa)\n",
    "plt.xlabel('Wine Type')\n",
    "plt.ylabel('Fixed Acidity / a.u.')\n",
    "plt.show()"
   ]
  },
  {
   "cell_type": "markdown",
   "id": "b63e11f1",
   "metadata": {},
   "source": [
    "### One-sample $t$-test\n",
    "\n",
    "Used when the true population mean is known\n",
    "\n",
    "**The wine manufacturere says that the fixed acidity for red wines is 8.33.**\n",
    "The value 8.33 might have come from the certificate of analysis of a standard reference material for example.\n",
    "\n",
    "### Hypotheses\n",
    "\n",
    "- **Null hypothesis (H₀):** The mean of the sample **is identical** to the specified population mean.\n",
    "- **Alternative hypothesis (H₁):** The mean of the sample **is not identical** to the specified population mean."
   ]
  },
  {
   "cell_type": "code",
   "execution_count": 22,
   "id": "c65c245f",
   "metadata": {},
   "outputs": [
    {
     "data": {
      "application/vnd.microsoft.datawrangler.viewer.v0+json": {
       "columns": [
        {
         "name": "index",
         "rawType": "object",
         "type": "string"
        },
        {
         "name": "red",
         "rawType": "float64",
         "type": "float"
        }
       ],
       "ref": "c8b71947-ddaa-4f10-a809-3f307b3b20f2",
       "rows": [
        [
         "count",
         "1599.0"
        ],
        [
         "mean",
         "8.31963727329581"
        ],
        [
         "std",
         "1.7410963181277006"
        ],
        [
         "min",
         "4.6"
        ],
        [
         "25%",
         "7.1"
        ],
        [
         "50%",
         "7.9"
        ],
        [
         "75%",
         "9.2"
        ],
        [
         "max",
         "15.9"
        ]
       ],
       "shape": {
        "columns": 1,
        "rows": 8
       }
      },
      "text/plain": [
       "count    1599.000000\n",
       "mean        8.319637\n",
       "std         1.741096\n",
       "min         4.600000\n",
       "25%         7.100000\n",
       "50%         7.900000\n",
       "75%         9.200000\n",
       "max        15.900000\n",
       "Name: red, dtype: float64"
      ]
     },
     "execution_count": 22,
     "metadata": {},
     "output_type": "execute_result"
    }
   ],
   "source": [
    "df_fa['red'].describe()"
   ]
  },
  {
   "cell_type": "markdown",
   "id": "89f6bdec",
   "metadata": {},
   "source": [
    "The module `pingouin` implements a lot of usefull statistical tests (see: https://pingouin-stats.org/build/html/index.html)"
   ]
  },
  {
   "cell_type": "code",
   "execution_count": null,
   "id": "ef9aac6c",
   "metadata": {},
   "outputs": [
    {
     "data": {
      "application/vnd.microsoft.datawrangler.viewer.v0+json": {
       "columns": [
        {
         "name": "index",
         "rawType": "object",
         "type": "string"
        },
        {
         "name": "T",
         "rawType": "float64",
         "type": "float"
        },
        {
         "name": "dof",
         "rawType": "int64",
         "type": "integer"
        },
        {
         "name": "alternative",
         "rawType": "object",
         "type": "string"
        },
        {
         "name": "p-val",
         "rawType": "float64",
         "type": "float"
        },
        {
         "name": "CI95%",
         "rawType": "object",
         "type": "unknown"
        },
        {
         "name": "cohen-d",
         "rawType": "float64",
         "type": "float"
        },
        {
         "name": "BF10",
         "rawType": "object",
         "type": "string"
        },
        {
         "name": "power",
         "rawType": "float64",
         "type": "float"
        }
       ],
       "ref": "5e58ead7-01cc-4aca-bf17-dfc7e8f3a9fb",
       "rows": [
        [
         "T-test",
         "-0.23799919023630403",
         "1598",
         "two-sided",
         "0.8119122343411926",
         "[8.23 8.41]",
         "0.005951839996614584",
         "0.029",
         "0.056505958338665896"
        ]
       ],
       "shape": {
        "columns": 8,
        "rows": 1
       }
      },
      "text/html": [
       "<div>\n",
       "<style scoped>\n",
       "    .dataframe tbody tr th:only-of-type {\n",
       "        vertical-align: middle;\n",
       "    }\n",
       "\n",
       "    .dataframe tbody tr th {\n",
       "        vertical-align: top;\n",
       "    }\n",
       "\n",
       "    .dataframe thead th {\n",
       "        text-align: right;\n",
       "    }\n",
       "</style>\n",
       "<table border=\"1\" class=\"dataframe\">\n",
       "  <thead>\n",
       "    <tr style=\"text-align: right;\">\n",
       "      <th></th>\n",
       "      <th>T</th>\n",
       "      <th>dof</th>\n",
       "      <th>alternative</th>\n",
       "      <th>p-val</th>\n",
       "      <th>CI95%</th>\n",
       "      <th>cohen-d</th>\n",
       "      <th>BF10</th>\n",
       "      <th>power</th>\n",
       "    </tr>\n",
       "  </thead>\n",
       "  <tbody>\n",
       "    <tr>\n",
       "      <th>T-test</th>\n",
       "      <td>-0.237999</td>\n",
       "      <td>1598</td>\n",
       "      <td>two-sided</td>\n",
       "      <td>0.811912</td>\n",
       "      <td>[8.23, 8.41]</td>\n",
       "      <td>0.005952</td>\n",
       "      <td>0.029</td>\n",
       "      <td>0.056506</td>\n",
       "    </tr>\n",
       "  </tbody>\n",
       "</table>\n",
       "</div>"
      ],
      "text/plain": [
       "               T   dof alternative     p-val         CI95%   cohen-d   BF10  \\\n",
       "T-test -0.237999  1598   two-sided  0.811912  [8.23, 8.41]  0.005952  0.029   \n",
       "\n",
       "           power  \n",
       "T-test  0.056506  "
      ]
     },
     "execution_count": 23,
     "metadata": {},
     "output_type": "execute_result"
    }
   ],
   "source": [
    "import pingouin as pg\n",
    "\n",
    "pg.ttest(df_fa['red'], 8.33, correction='auto')"
   ]
  },
  {
   "cell_type": "markdown",
   "id": "b838d76f",
   "metadata": {},
   "source": [
    "The results can be interpreted in that way:\n",
    "With a probability of 81.2 % to get a sample mean of 8.32 it the true population mean is 8.33"
   ]
  },
  {
   "cell_type": "markdown",
   "id": "59db981c",
   "metadata": {},
   "source": [
    "### Two-sample $t$-test\n",
    "A two-sample t-test (also called independent samples t-test) is used to determine whether the means of two independent groups are significantly different from each other.\n",
    "\n",
    "When to use it?\n",
    "\n",
    "- You have two separate groups (e.g. treatment vs. control)\n",
    "- You want to test if their population means are equal\n",
    "- Data is approximately normally distributed within each group\n",
    "- Variances are assumed equal (when unequal use Welch’s t-test)\n",
    "\n",
    "### Hypotheses\n",
    "\n",
    "- **Null hypothesis (H₀):** The population means of the two groups **are equal**.\n",
    "- **Alternative hypothesis (H₁):** T the population means of the two groups **are not equal**."
   ]
  },
  {
   "cell_type": "code",
   "execution_count": 24,
   "id": "8c052411",
   "metadata": {},
   "outputs": [
    {
     "data": {
      "application/vnd.microsoft.datawrangler.viewer.v0+json": {
       "columns": [
        {
         "name": "index",
         "rawType": "object",
         "type": "string"
        },
        {
         "name": "red",
         "rawType": "float64",
         "type": "float"
        },
        {
         "name": "white",
         "rawType": "float64",
         "type": "float"
        }
       ],
       "ref": "9211428f-1ad5-4afb-b7e6-15c1d16c2107",
       "rows": [
        [
         "count",
         "1599.0",
         "1599.0"
        ],
        [
         "mean",
         "8.31963727329581",
         "7.016948092557848"
        ],
        [
         "std",
         "1.7410963181277006",
         "0.879252835433628"
        ],
        [
         "min",
         "4.6",
         "4.8"
        ],
        [
         "25%",
         "7.1",
         "6.4"
        ],
        [
         "50%",
         "7.9",
         "7.0"
        ],
        [
         "75%",
         "9.2",
         "7.5"
        ],
        [
         "max",
         "15.9",
         "14.2"
        ]
       ],
       "shape": {
        "columns": 2,
        "rows": 8
       }
      },
      "text/html": [
       "<div>\n",
       "<style scoped>\n",
       "    .dataframe tbody tr th:only-of-type {\n",
       "        vertical-align: middle;\n",
       "    }\n",
       "\n",
       "    .dataframe tbody tr th {\n",
       "        vertical-align: top;\n",
       "    }\n",
       "\n",
       "    .dataframe thead th {\n",
       "        text-align: right;\n",
       "    }\n",
       "</style>\n",
       "<table border=\"1\" class=\"dataframe\">\n",
       "  <thead>\n",
       "    <tr style=\"text-align: right;\">\n",
       "      <th></th>\n",
       "      <th>red</th>\n",
       "      <th>white</th>\n",
       "    </tr>\n",
       "  </thead>\n",
       "  <tbody>\n",
       "    <tr>\n",
       "      <th>count</th>\n",
       "      <td>1599.000000</td>\n",
       "      <td>1599.000000</td>\n",
       "    </tr>\n",
       "    <tr>\n",
       "      <th>mean</th>\n",
       "      <td>8.319637</td>\n",
       "      <td>7.016948</td>\n",
       "    </tr>\n",
       "    <tr>\n",
       "      <th>std</th>\n",
       "      <td>1.741096</td>\n",
       "      <td>0.879253</td>\n",
       "    </tr>\n",
       "    <tr>\n",
       "      <th>min</th>\n",
       "      <td>4.600000</td>\n",
       "      <td>4.800000</td>\n",
       "    </tr>\n",
       "    <tr>\n",
       "      <th>25%</th>\n",
       "      <td>7.100000</td>\n",
       "      <td>6.400000</td>\n",
       "    </tr>\n",
       "    <tr>\n",
       "      <th>50%</th>\n",
       "      <td>7.900000</td>\n",
       "      <td>7.000000</td>\n",
       "    </tr>\n",
       "    <tr>\n",
       "      <th>75%</th>\n",
       "      <td>9.200000</td>\n",
       "      <td>7.500000</td>\n",
       "    </tr>\n",
       "    <tr>\n",
       "      <th>max</th>\n",
       "      <td>15.900000</td>\n",
       "      <td>14.200000</td>\n",
       "    </tr>\n",
       "  </tbody>\n",
       "</table>\n",
       "</div>"
      ],
      "text/plain": [
       "               red        white\n",
       "count  1599.000000  1599.000000\n",
       "mean      8.319637     7.016948\n",
       "std       1.741096     0.879253\n",
       "min       4.600000     4.800000\n",
       "25%       7.100000     6.400000\n",
       "50%       7.900000     7.000000\n",
       "75%       9.200000     7.500000\n",
       "max      15.900000    14.200000"
      ]
     },
     "execution_count": 24,
     "metadata": {},
     "output_type": "execute_result"
    }
   ],
   "source": [
    "df_fa.dropna().describe()"
   ]
  },
  {
   "cell_type": "code",
   "execution_count": 25,
   "id": "260f3112",
   "metadata": {},
   "outputs": [
    {
     "data": {
      "application/vnd.microsoft.datawrangler.viewer.v0+json": {
       "columns": [
        {
         "name": "index",
         "rawType": "object",
         "type": "string"
        },
        {
         "name": "T",
         "rawType": "float64",
         "type": "float"
        },
        {
         "name": "dof",
         "rawType": "float64",
         "type": "float"
        },
        {
         "name": "alternative",
         "rawType": "object",
         "type": "string"
        },
        {
         "name": "p-val",
         "rawType": "float64",
         "type": "float"
        },
        {
         "name": "CI95%",
         "rawType": "object",
         "type": "unknown"
        },
        {
         "name": "cohen-d",
         "rawType": "float64",
         "type": "float"
        },
        {
         "name": "BF10",
         "rawType": "object",
         "type": "string"
        },
        {
         "name": "power",
         "rawType": "float64",
         "type": "float"
        }
       ],
       "ref": "5eeda091-9204-47bd-bb44-cec1beddf3c0",
       "rows": [
        [
         "T-test",
         "32.42271096728916",
         "1848.9479343425876",
         "two-sided",
         "5.668160586754749e-183",
         "[1.38 1.55]",
         "1.2933706677472012",
         "4.834e+209",
         "1.0"
        ]
       ],
       "shape": {
        "columns": 8,
        "rows": 1
       }
      },
      "text/html": [
       "<div>\n",
       "<style scoped>\n",
       "    .dataframe tbody tr th:only-of-type {\n",
       "        vertical-align: middle;\n",
       "    }\n",
       "\n",
       "    .dataframe tbody tr th {\n",
       "        vertical-align: top;\n",
       "    }\n",
       "\n",
       "    .dataframe thead th {\n",
       "        text-align: right;\n",
       "    }\n",
       "</style>\n",
       "<table border=\"1\" class=\"dataframe\">\n",
       "  <thead>\n",
       "    <tr style=\"text-align: right;\">\n",
       "      <th></th>\n",
       "      <th>T</th>\n",
       "      <th>dof</th>\n",
       "      <th>alternative</th>\n",
       "      <th>p-val</th>\n",
       "      <th>CI95%</th>\n",
       "      <th>cohen-d</th>\n",
       "      <th>BF10</th>\n",
       "      <th>power</th>\n",
       "    </tr>\n",
       "  </thead>\n",
       "  <tbody>\n",
       "    <tr>\n",
       "      <th>T-test</th>\n",
       "      <td>32.422711</td>\n",
       "      <td>1848.947934</td>\n",
       "      <td>two-sided</td>\n",
       "      <td>5.668161e-183</td>\n",
       "      <td>[1.38, 1.55]</td>\n",
       "      <td>1.293371</td>\n",
       "      <td>4.834e+209</td>\n",
       "      <td>1.0</td>\n",
       "    </tr>\n",
       "  </tbody>\n",
       "</table>\n",
       "</div>"
      ],
      "text/plain": [
       "                T          dof alternative          p-val         CI95%  \\\n",
       "T-test  32.422711  1848.947934   two-sided  5.668161e-183  [1.38, 1.55]   \n",
       "\n",
       "         cohen-d        BF10  power  \n",
       "T-test  1.293371  4.834e+209    1.0  "
      ]
     },
     "execution_count": 25,
     "metadata": {},
     "output_type": "execute_result"
    }
   ],
   "source": [
    "pg.ttest(df_fa['red'], df_fa['white'], correction='auto')"
   ]
  },
  {
   "cell_type": "markdown",
   "id": "58c92f3f",
   "metadata": {},
   "source": [
    "A p-value that small indicates that it is very (very) unlikely that the means of the two groups are identical\n",
    "\n",
    "### ANOVA\n",
    "---\n",
    "ANOVA (Analysis of Variance) is a statistical method used to test whether there are significant differences between the means of three or more groups.\n",
    "\n",
    "**Why not use multiple t-tests?**\n",
    "\n",
    "If we were to compare each pair of groups with individual t-tests, the probability of making a Type I error (false positive) increases with each test. ANOVA controls this error rate by testing all groups simultaneously in a single procedure.\n",
    "\n",
    "---\n",
    "\n",
    "#### Hypotheses\n",
    "\n",
    "- **Null hypothesis (H₀):** All group means are equal.\n",
    "- **Alternative hypothesis (H₁):** At least one group mean is different.\n",
    "\n",
    "#### Basic idea\n",
    "\n",
    "ANOVA compares **two sources of variability**:\n",
    "- **Between-group variability:** Variance due to the interaction between the different groups (how much group means differ from the overall mean).\n",
    "- **Within-group variability:** Variance due to differences within individual groups (natural spread of data).\n",
    "\n",
    "From this variabilities a F-statistic and its corresponding p-value according to the F-distribution are calculated.\n",
    "\n",
    "If the null hypothesis is rejected the Tukey's HSD (Honestly Significant Difference) post hoc test can be conducted to identify the groups which reject the null hypothesis.\n"
   ]
  },
  {
   "cell_type": "code",
   "execution_count": 26,
   "id": "e1ff4095",
   "metadata": {},
   "outputs": [
    {
     "data": {
      "application/vnd.microsoft.datawrangler.viewer.v0+json": {
       "columns": [
        {
         "name": "quality",
         "rawType": "int64",
         "type": "integer"
        },
        {
         "name": "count",
         "rawType": "float64",
         "type": "float"
        },
        {
         "name": "mean",
         "rawType": "float64",
         "type": "float"
        },
        {
         "name": "std",
         "rawType": "float64",
         "type": "float"
        },
        {
         "name": "min",
         "rawType": "float64",
         "type": "float"
        },
        {
         "name": "25%",
         "rawType": "float64",
         "type": "float"
        },
        {
         "name": "50%",
         "rawType": "float64",
         "type": "float"
        },
        {
         "name": "75%",
         "rawType": "float64",
         "type": "float"
        },
        {
         "name": "max",
         "rawType": "float64",
         "type": "float"
        }
       ],
       "ref": "9c35d073-2bad-4828-8766-05ab6c57f513",
       "rows": [
        [
         "3",
         "10.0",
         "2.6350000000000002",
         "1.4015963121463406",
         "1.2",
         "1.875",
         "2.1",
         "3.1",
         "5.7"
        ],
        [
         "4",
         "53.0",
         "2.6943396226415097",
         "1.7894364276475883",
         "1.3",
         "1.9",
         "2.1",
         "2.8",
         "12.9"
        ],
        [
         "5",
         "681.0",
         "2.528854625550661",
         "1.359752630297107",
         "1.2",
         "1.9",
         "2.2",
         "2.6",
         "15.5"
        ],
        [
         "6",
         "638.0",
         "2.477194357366771",
         "1.441575798087687",
         "0.9",
         "1.9",
         "2.2",
         "2.5",
         "15.4"
        ],
        [
         "7",
         "199.0",
         "2.7206030150753766",
         "1.371509394198487",
         "1.2",
         "2.0",
         "2.3",
         "2.75",
         "8.9"
        ],
        [
         "8",
         "18.0",
         "2.5777777777777775",
         "1.2950382940309277",
         "1.4",
         "1.8",
         "2.1",
         "2.6",
         "6.4"
        ]
       ],
       "shape": {
        "columns": 8,
        "rows": 6
       }
      },
      "text/html": [
       "<div>\n",
       "<style scoped>\n",
       "    .dataframe tbody tr th:only-of-type {\n",
       "        vertical-align: middle;\n",
       "    }\n",
       "\n",
       "    .dataframe tbody tr th {\n",
       "        vertical-align: top;\n",
       "    }\n",
       "\n",
       "    .dataframe thead th {\n",
       "        text-align: right;\n",
       "    }\n",
       "</style>\n",
       "<table border=\"1\" class=\"dataframe\">\n",
       "  <thead>\n",
       "    <tr style=\"text-align: right;\">\n",
       "      <th></th>\n",
       "      <th>count</th>\n",
       "      <th>mean</th>\n",
       "      <th>std</th>\n",
       "      <th>min</th>\n",
       "      <th>25%</th>\n",
       "      <th>50%</th>\n",
       "      <th>75%</th>\n",
       "      <th>max</th>\n",
       "    </tr>\n",
       "    <tr>\n",
       "      <th>quality</th>\n",
       "      <th></th>\n",
       "      <th></th>\n",
       "      <th></th>\n",
       "      <th></th>\n",
       "      <th></th>\n",
       "      <th></th>\n",
       "      <th></th>\n",
       "      <th></th>\n",
       "    </tr>\n",
       "  </thead>\n",
       "  <tbody>\n",
       "    <tr>\n",
       "      <th>3</th>\n",
       "      <td>10.0</td>\n",
       "      <td>2.635000</td>\n",
       "      <td>1.401596</td>\n",
       "      <td>1.2</td>\n",
       "      <td>1.875</td>\n",
       "      <td>2.1</td>\n",
       "      <td>3.10</td>\n",
       "      <td>5.7</td>\n",
       "    </tr>\n",
       "    <tr>\n",
       "      <th>4</th>\n",
       "      <td>53.0</td>\n",
       "      <td>2.694340</td>\n",
       "      <td>1.789436</td>\n",
       "      <td>1.3</td>\n",
       "      <td>1.900</td>\n",
       "      <td>2.1</td>\n",
       "      <td>2.80</td>\n",
       "      <td>12.9</td>\n",
       "    </tr>\n",
       "    <tr>\n",
       "      <th>5</th>\n",
       "      <td>681.0</td>\n",
       "      <td>2.528855</td>\n",
       "      <td>1.359753</td>\n",
       "      <td>1.2</td>\n",
       "      <td>1.900</td>\n",
       "      <td>2.2</td>\n",
       "      <td>2.60</td>\n",
       "      <td>15.5</td>\n",
       "    </tr>\n",
       "    <tr>\n",
       "      <th>6</th>\n",
       "      <td>638.0</td>\n",
       "      <td>2.477194</td>\n",
       "      <td>1.441576</td>\n",
       "      <td>0.9</td>\n",
       "      <td>1.900</td>\n",
       "      <td>2.2</td>\n",
       "      <td>2.50</td>\n",
       "      <td>15.4</td>\n",
       "    </tr>\n",
       "    <tr>\n",
       "      <th>7</th>\n",
       "      <td>199.0</td>\n",
       "      <td>2.720603</td>\n",
       "      <td>1.371509</td>\n",
       "      <td>1.2</td>\n",
       "      <td>2.000</td>\n",
       "      <td>2.3</td>\n",
       "      <td>2.75</td>\n",
       "      <td>8.9</td>\n",
       "    </tr>\n",
       "    <tr>\n",
       "      <th>8</th>\n",
       "      <td>18.0</td>\n",
       "      <td>2.577778</td>\n",
       "      <td>1.295038</td>\n",
       "      <td>1.4</td>\n",
       "      <td>1.800</td>\n",
       "      <td>2.1</td>\n",
       "      <td>2.60</td>\n",
       "      <td>6.4</td>\n",
       "    </tr>\n",
       "  </tbody>\n",
       "</table>\n",
       "</div>"
      ],
      "text/plain": [
       "         count      mean       std  min    25%  50%   75%   max\n",
       "quality                                                        \n",
       "3         10.0  2.635000  1.401596  1.2  1.875  2.1  3.10   5.7\n",
       "4         53.0  2.694340  1.789436  1.3  1.900  2.1  2.80  12.9\n",
       "5        681.0  2.528855  1.359753  1.2  1.900  2.2  2.60  15.5\n",
       "6        638.0  2.477194  1.441576  0.9  1.900  2.2  2.50  15.4\n",
       "7        199.0  2.720603  1.371509  1.2  2.000  2.3  2.75   8.9\n",
       "8         18.0  2.577778  1.295038  1.4  1.800  2.1  2.60   6.4"
      ]
     },
     "execution_count": 26,
     "metadata": {},
     "output_type": "execute_result"
    }
   ],
   "source": [
    "df_red.groupby('quality')['residual sugar'].describe()"
   ]
  },
  {
   "cell_type": "code",
   "execution_count": 27,
   "id": "19819d67",
   "metadata": {},
   "outputs": [
    {
     "data": {
      "application/vnd.microsoft.datawrangler.viewer.v0+json": {
       "columns": [
        {
         "name": "index",
         "rawType": "int64",
         "type": "integer"
        },
        {
         "name": "Source",
         "rawType": "object",
         "type": "string"
        },
        {
         "name": "ddof1",
         "rawType": "int64",
         "type": "integer"
        },
        {
         "name": "ddof2",
         "rawType": "int64",
         "type": "integer"
        },
        {
         "name": "F",
         "rawType": "float64",
         "type": "float"
        },
        {
         "name": "p-unc",
         "rawType": "float64",
         "type": "float"
        },
        {
         "name": "np2",
         "rawType": "float64",
         "type": "float"
        }
       ],
       "ref": "35015b75-b833-47c9-ae7c-a1492d430364",
       "rows": [
        [
         "0",
         "quality",
         "5",
         "1593",
         "1.0533735778522062",
         "0.3846187754292449",
         "0.0032953619918409996"
        ]
       ],
       "shape": {
        "columns": 6,
        "rows": 1
       }
      },
      "text/html": [
       "<div>\n",
       "<style scoped>\n",
       "    .dataframe tbody tr th:only-of-type {\n",
       "        vertical-align: middle;\n",
       "    }\n",
       "\n",
       "    .dataframe tbody tr th {\n",
       "        vertical-align: top;\n",
       "    }\n",
       "\n",
       "    .dataframe thead th {\n",
       "        text-align: right;\n",
       "    }\n",
       "</style>\n",
       "<table border=\"1\" class=\"dataframe\">\n",
       "  <thead>\n",
       "    <tr style=\"text-align: right;\">\n",
       "      <th></th>\n",
       "      <th>Source</th>\n",
       "      <th>ddof1</th>\n",
       "      <th>ddof2</th>\n",
       "      <th>F</th>\n",
       "      <th>p-unc</th>\n",
       "      <th>np2</th>\n",
       "    </tr>\n",
       "  </thead>\n",
       "  <tbody>\n",
       "    <tr>\n",
       "      <th>0</th>\n",
       "      <td>quality</td>\n",
       "      <td>5</td>\n",
       "      <td>1593</td>\n",
       "      <td>1.053374</td>\n",
       "      <td>0.384619</td>\n",
       "      <td>0.003295</td>\n",
       "    </tr>\n",
       "  </tbody>\n",
       "</table>\n",
       "</div>"
      ],
      "text/plain": [
       "    Source  ddof1  ddof2         F     p-unc       np2\n",
       "0  quality      5   1593  1.053374  0.384619  0.003295"
      ]
     },
     "execution_count": 27,
     "metadata": {},
     "output_type": "execute_result"
    }
   ],
   "source": [
    "df_red.anova(dv=\"residual sugar\", between=\"quality\")"
   ]
  },
  {
   "cell_type": "code",
   "execution_count": 28,
   "id": "91917cef",
   "metadata": {},
   "outputs": [
    {
     "data": {
      "application/vnd.microsoft.datawrangler.viewer.v0+json": {
       "columns": [
        {
         "name": "quality",
         "rawType": "int64",
         "type": "integer"
        },
        {
         "name": "count",
         "rawType": "float64",
         "type": "float"
        },
        {
         "name": "mean",
         "rawType": "float64",
         "type": "float"
        },
        {
         "name": "std",
         "rawType": "float64",
         "type": "float"
        },
        {
         "name": "min",
         "rawType": "float64",
         "type": "float"
        },
        {
         "name": "25%",
         "rawType": "float64",
         "type": "float"
        },
        {
         "name": "50%",
         "rawType": "float64",
         "type": "float"
        },
        {
         "name": "75%",
         "rawType": "float64",
         "type": "float"
        },
        {
         "name": "max",
         "rawType": "float64",
         "type": "float"
        }
       ],
       "ref": "3666f7da-8a70-489c-b4cf-a0cc683fa1e8",
       "rows": [
        [
         "3",
         "10.0",
         "9.955000000000002",
         "0.8180091007372036",
         "8.4",
         "9.725",
         "9.925",
         "10.575",
         "11.0"
        ],
        [
         "4",
         "53.0",
         "10.265094339622639",
         "0.9347760378448319",
         "9.0",
         "9.6",
         "10.0",
         "11.0",
         "13.1"
        ],
        [
         "5",
         "681.0",
         "9.899706314243758",
         "0.7365209765620769",
         "8.5",
         "9.4",
         "9.7",
         "10.2",
         "14.9"
        ],
        [
         "6",
         "638.0",
         "10.629519331243468",
         "1.0496389512697764",
         "8.4",
         "9.8",
         "10.5",
         "11.3",
         "14.0"
        ],
        [
         "7",
         "199.0",
         "11.465912897822445",
         "0.9619329943029575",
         "9.2",
         "10.8",
         "11.5",
         "12.1",
         "14.0"
        ],
        [
         "8",
         "18.0",
         "12.094444444444445",
         "1.224010871838598",
         "9.8",
         "11.325000000000001",
         "12.15",
         "12.875",
         "14.0"
        ]
       ],
       "shape": {
        "columns": 8,
        "rows": 6
       }
      },
      "text/html": [
       "<div>\n",
       "<style scoped>\n",
       "    .dataframe tbody tr th:only-of-type {\n",
       "        vertical-align: middle;\n",
       "    }\n",
       "\n",
       "    .dataframe tbody tr th {\n",
       "        vertical-align: top;\n",
       "    }\n",
       "\n",
       "    .dataframe thead th {\n",
       "        text-align: right;\n",
       "    }\n",
       "</style>\n",
       "<table border=\"1\" class=\"dataframe\">\n",
       "  <thead>\n",
       "    <tr style=\"text-align: right;\">\n",
       "      <th></th>\n",
       "      <th>count</th>\n",
       "      <th>mean</th>\n",
       "      <th>std</th>\n",
       "      <th>min</th>\n",
       "      <th>25%</th>\n",
       "      <th>50%</th>\n",
       "      <th>75%</th>\n",
       "      <th>max</th>\n",
       "    </tr>\n",
       "    <tr>\n",
       "      <th>quality</th>\n",
       "      <th></th>\n",
       "      <th></th>\n",
       "      <th></th>\n",
       "      <th></th>\n",
       "      <th></th>\n",
       "      <th></th>\n",
       "      <th></th>\n",
       "      <th></th>\n",
       "    </tr>\n",
       "  </thead>\n",
       "  <tbody>\n",
       "    <tr>\n",
       "      <th>3</th>\n",
       "      <td>10.0</td>\n",
       "      <td>9.955000</td>\n",
       "      <td>0.818009</td>\n",
       "      <td>8.4</td>\n",
       "      <td>9.725</td>\n",
       "      <td>9.925</td>\n",
       "      <td>10.575</td>\n",
       "      <td>11.0</td>\n",
       "    </tr>\n",
       "    <tr>\n",
       "      <th>4</th>\n",
       "      <td>53.0</td>\n",
       "      <td>10.265094</td>\n",
       "      <td>0.934776</td>\n",
       "      <td>9.0</td>\n",
       "      <td>9.600</td>\n",
       "      <td>10.000</td>\n",
       "      <td>11.000</td>\n",
       "      <td>13.1</td>\n",
       "    </tr>\n",
       "    <tr>\n",
       "      <th>5</th>\n",
       "      <td>681.0</td>\n",
       "      <td>9.899706</td>\n",
       "      <td>0.736521</td>\n",
       "      <td>8.5</td>\n",
       "      <td>9.400</td>\n",
       "      <td>9.700</td>\n",
       "      <td>10.200</td>\n",
       "      <td>14.9</td>\n",
       "    </tr>\n",
       "    <tr>\n",
       "      <th>6</th>\n",
       "      <td>638.0</td>\n",
       "      <td>10.629519</td>\n",
       "      <td>1.049639</td>\n",
       "      <td>8.4</td>\n",
       "      <td>9.800</td>\n",
       "      <td>10.500</td>\n",
       "      <td>11.300</td>\n",
       "      <td>14.0</td>\n",
       "    </tr>\n",
       "    <tr>\n",
       "      <th>7</th>\n",
       "      <td>199.0</td>\n",
       "      <td>11.465913</td>\n",
       "      <td>0.961933</td>\n",
       "      <td>9.2</td>\n",
       "      <td>10.800</td>\n",
       "      <td>11.500</td>\n",
       "      <td>12.100</td>\n",
       "      <td>14.0</td>\n",
       "    </tr>\n",
       "    <tr>\n",
       "      <th>8</th>\n",
       "      <td>18.0</td>\n",
       "      <td>12.094444</td>\n",
       "      <td>1.224011</td>\n",
       "      <td>9.8</td>\n",
       "      <td>11.325</td>\n",
       "      <td>12.150</td>\n",
       "      <td>12.875</td>\n",
       "      <td>14.0</td>\n",
       "    </tr>\n",
       "  </tbody>\n",
       "</table>\n",
       "</div>"
      ],
      "text/plain": [
       "         count       mean       std  min     25%     50%     75%   max\n",
       "quality                                                               \n",
       "3         10.0   9.955000  0.818009  8.4   9.725   9.925  10.575  11.0\n",
       "4         53.0  10.265094  0.934776  9.0   9.600  10.000  11.000  13.1\n",
       "5        681.0   9.899706  0.736521  8.5   9.400   9.700  10.200  14.9\n",
       "6        638.0  10.629519  1.049639  8.4   9.800  10.500  11.300  14.0\n",
       "7        199.0  11.465913  0.961933  9.2  10.800  11.500  12.100  14.0\n",
       "8         18.0  12.094444  1.224011  9.8  11.325  12.150  12.875  14.0"
      ]
     },
     "execution_count": 28,
     "metadata": {},
     "output_type": "execute_result"
    }
   ],
   "source": [
    "df_red.groupby('quality')['alcohol'].describe()"
   ]
  },
  {
   "cell_type": "code",
   "execution_count": 29,
   "id": "97a37786",
   "metadata": {},
   "outputs": [
    {
     "data": {
      "application/vnd.microsoft.datawrangler.viewer.v0+json": {
       "columns": [
        {
         "name": "index",
         "rawType": "int64",
         "type": "integer"
        },
        {
         "name": "Source",
         "rawType": "object",
         "type": "string"
        },
        {
         "name": "ddof1",
         "rawType": "int64",
         "type": "integer"
        },
        {
         "name": "ddof2",
         "rawType": "int64",
         "type": "integer"
        },
        {
         "name": "F",
         "rawType": "float64",
         "type": "float"
        },
        {
         "name": "p-unc",
         "rawType": "float64",
         "type": "float"
        },
        {
         "name": "np2",
         "rawType": "float64",
         "type": "float"
        }
       ],
       "ref": "2f53c608-f35b-4784-a579-aac92b4ed388",
       "rows": [
        [
         "0",
         "quality",
         "5",
         "1593",
         "115.85479746682745",
         "1.2098951580566747e-104",
         "0.2666670920481054"
        ]
       ],
       "shape": {
        "columns": 6,
        "rows": 1
       }
      },
      "text/html": [
       "<div>\n",
       "<style scoped>\n",
       "    .dataframe tbody tr th:only-of-type {\n",
       "        vertical-align: middle;\n",
       "    }\n",
       "\n",
       "    .dataframe tbody tr th {\n",
       "        vertical-align: top;\n",
       "    }\n",
       "\n",
       "    .dataframe thead th {\n",
       "        text-align: right;\n",
       "    }\n",
       "</style>\n",
       "<table border=\"1\" class=\"dataframe\">\n",
       "  <thead>\n",
       "    <tr style=\"text-align: right;\">\n",
       "      <th></th>\n",
       "      <th>Source</th>\n",
       "      <th>ddof1</th>\n",
       "      <th>ddof2</th>\n",
       "      <th>F</th>\n",
       "      <th>p-unc</th>\n",
       "      <th>np2</th>\n",
       "    </tr>\n",
       "  </thead>\n",
       "  <tbody>\n",
       "    <tr>\n",
       "      <th>0</th>\n",
       "      <td>quality</td>\n",
       "      <td>5</td>\n",
       "      <td>1593</td>\n",
       "      <td>115.854797</td>\n",
       "      <td>1.209895e-104</td>\n",
       "      <td>0.266667</td>\n",
       "    </tr>\n",
       "  </tbody>\n",
       "</table>\n",
       "</div>"
      ],
      "text/plain": [
       "    Source  ddof1  ddof2           F          p-unc       np2\n",
       "0  quality      5   1593  115.854797  1.209895e-104  0.266667"
      ]
     },
     "execution_count": 29,
     "metadata": {},
     "output_type": "execute_result"
    }
   ],
   "source": [
    "df_red.anova(dv=\"alcohol\", between=\"quality\")"
   ]
  },
  {
   "cell_type": "markdown",
   "id": "0df4f5f7",
   "metadata": {},
   "source": [
    "## EXCURSE: Plotting the Mandelbrot set"
   ]
  },
  {
   "cell_type": "code",
   "execution_count": 30,
   "id": "ed4a22c5",
   "metadata": {},
   "outputs": [
    {
     "data": {
      "image/png": "[encoded data removed]",
      "text/plain": [
       "<Figure size 640x480 with 2 Axes>"
      ]
     },
     "metadata": {},
     "output_type": "display_data"
    }
   ],
   "source": [
    "def mandelbrot(c: complex, max_iter: int) -> int:\n",
    "    z = 0\n",
    "    n = 0\n",
    "    while abs(z) <= 2 and n < max_iter:\n",
    "        z = z*z + c\n",
    "        n += 1\n",
    "    return n\n",
    "\n",
    "def mandelbrot_set(real_part_lim: tuple[int], im_part_lim: tuple[int], max_iter: int) -> np.ndarray:\n",
    "    real_parts = np.linspace(*real_part_lim, 500)\n",
    "    im_parts = np.linspace(*im_part_lim, 500)\n",
    "\n",
    "    return np.array([[mandelbrot(complex(r, i), max_iter) for r in real_parts] for i in im_parts])\n",
    "\n",
    "def display_mandelbrot(real_part_lim: tuple[int], im_part_lim: tuple[int], max_iter: int):\n",
    "    mandelbrot_values = mandelbrot_set(real_part_lim, im_part_lim, max_iter)\n",
    "\n",
    "\n",
    "    plt.imshow(mandelbrot_values, extent=real_part_lim + im_part_lim, cmap='hot')\n",
    "    plt.colorbar()\n",
    "    plt.xlabel('Real Part')\n",
    "    plt.ylabel('Imaginary Part')\n",
    "    plt.show()\n",
    "\n",
    "\n",
    "# Example usage\n",
    "display_mandelbrot((-2.1, 0.55), (-1.5, 1.5), 100)\n",
    "# This will display the Mandelbrot set for the specified limits and maximum iterations."
   ]
  }
 ],
 "metadata": {
  "kernelspec": {
   "display_name": "BasicML",
   "language": "python",
   "name": "python3"
  },
  "language_info": {
   "codemirror_mode": {
    "name": "ipython",
    "version": 3
   },
   "file_extension": ".py",
   "mimetype": "text/x-python",
   "name": "python",
   "nbconvert_exporter": "python",
   "pygments_lexer": "ipython3",
   "version": "3.12.9"
  }
 },
 "nbformat": 4,
 "nbformat_minor": 5
}
