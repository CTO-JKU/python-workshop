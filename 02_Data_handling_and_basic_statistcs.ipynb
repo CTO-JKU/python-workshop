{
 "cells": [
  {
   "cell_type": "markdown",
   "id": "1febfa1c",
   "metadata": {},
   "source": [
    "# NOTEBOOK 2: Data handling and basic statistics"
   ]
  },
  {
   "cell_type": "markdown",
   "id": "65c0e7ea",
   "metadata": {},
   "source": [
    "## Data handling\n",
    "---\n",
    "In python exist two main data analysis libraries `pandas` and `polars`. In this tutorial `pandas` will be used.\n",
    "\n",
    "The pandas documentation can be found under https://pandas.pydata.org/\n",
    "\n",
    "### Data loading"
   ]
  },
  {
   "cell_type": "code",
   "execution_count": null,
   "id": "fa34fbc7",
   "metadata": {},
   "outputs": [],
   "source": []
  },
  {
   "cell_type": "code",
   "execution_count": null,
   "id": "fb067755",
   "metadata": {},
   "outputs": [],
   "source": []
  },
  {
   "cell_type": "code",
   "execution_count": null,
   "id": "2eaf0ecc",
   "metadata": {},
   "outputs": [],
   "source": []
  },
  {
   "cell_type": "markdown",
   "id": "b85c6b3e",
   "metadata": {},
   "source": [
    "### Indexing data"
   ]
  },
  {
   "cell_type": "code",
   "execution_count": null,
   "id": "27db0dc7",
   "metadata": {},
   "outputs": [],
   "source": []
  },
  {
   "cell_type": "code",
   "execution_count": null,
   "id": "5b12b1bb",
   "metadata": {},
   "outputs": [],
   "source": []
  },
  {
   "cell_type": "code",
   "execution_count": null,
   "id": "928f4e91",
   "metadata": {},
   "outputs": [],
   "source": []
  },
  {
   "cell_type": "code",
   "execution_count": null,
   "id": "97d39b85",
   "metadata": {},
   "outputs": [],
   "source": []
  },
  {
   "cell_type": "code",
   "execution_count": null,
   "id": "0b688ca3",
   "metadata": {},
   "outputs": [],
   "source": []
  },
  {
   "cell_type": "code",
   "execution_count": null,
   "id": "47c83d8f",
   "metadata": {},
   "outputs": [],
   "source": []
  },
  {
   "cell_type": "code",
   "execution_count": null,
   "id": "78f3558b",
   "metadata": {},
   "outputs": [],
   "source": []
  },
  {
   "cell_type": "code",
   "execution_count": null,
   "id": "4a3730bc",
   "metadata": {},
   "outputs": [],
   "source": []
  },
  {
   "cell_type": "markdown",
   "id": "c36bec3f",
   "metadata": {},
   "source": [
    "## Plotting\n",
    "---\n",
    "### Pure matplotlib API\n",
    "Plotting artificial time series data"
   ]
  },
  {
   "cell_type": "code",
   "execution_count": null,
   "id": "70a77526",
   "metadata": {},
   "outputs": [],
   "source": []
  },
  {
   "cell_type": "code",
   "execution_count": null,
   "id": "f4ae7a06",
   "metadata": {},
   "outputs": [],
   "source": []
  },
  {
   "cell_type": "markdown",
   "id": "72c2b1cc",
   "metadata": {},
   "source": [
    "### Pandas built-in plotting"
   ]
  },
  {
   "cell_type": "code",
   "execution_count": null,
   "id": "776b2ca9",
   "metadata": {},
   "outputs": [],
   "source": []
  },
  {
   "cell_type": "markdown",
   "id": "dcab22b6",
   "metadata": {},
   "source": [
    "Enhance visual appearence"
   ]
  },
  {
   "cell_type": "code",
   "execution_count": null,
   "id": "5befda46",
   "metadata": {},
   "outputs": [],
   "source": []
  },
  {
   "cell_type": "markdown",
   "id": "9fe494be",
   "metadata": {},
   "source": [
    "## Confidence intervall\n",
    "---\n",
    "\n",
    "When you estimate the mean of a population you often want to provide a range of values that is likely to contain the true population parameter. This is the confidence interval (CI).\n",
    "\n",
    "### $t$-statistic (one sample mean)\n",
    "\n",
    "When the population standard deviation is unknown (common in practice) and sample size is small (<30), you use the $t$-distribution instead of normal ($z$) distribution\n",
    "\n",
    "$$\n",
    "\\text{CI} = \\bar{x} \\pm t \\cdot \\frac{s}{\\sqrt{n}}\n",
    "$$\n",
    "\n",
    "where $\\bar{x}$ is sample mean $s$ is sample standard deviation, $n$ sample size, $t$ critical $t$-value for the desired confidence level (e.g. 95%) with $n-1$ degrees of freedom"
   ]
  },
  {
   "cell_type": "code",
   "execution_count": null,
   "id": "489c830a",
   "metadata": {},
   "outputs": [],
   "source": []
  },
  {
   "cell_type": "code",
   "execution_count": null,
   "id": "6c0dba38",
   "metadata": {},
   "outputs": [],
   "source": []
  },
  {
   "cell_type": "markdown",
   "id": "1a0c6dc2",
   "metadata": {},
   "source": [
    "## Hypothesis testing\n",
    "---"
   ]
  },
  {
   "cell_type": "code",
   "execution_count": null,
   "id": "dadac74f",
   "metadata": {},
   "outputs": [],
   "source": []
  },
  {
   "cell_type": "code",
   "execution_count": null,
   "id": "a13f8b49",
   "metadata": {},
   "outputs": [],
   "source": []
  },
  {
   "cell_type": "markdown",
   "id": "b63e11f1",
   "metadata": {},
   "source": [
    "### One-sample $t$-test\n",
    "\n",
    "Used when the true population mean is known\n",
    "\n",
    "**The wine manufacturere says that the fixed acidity for red wines is 8.33.**\n",
    "The value 8.33 might have come from the certificate of analysis of a standard reference material for example.\n",
    "\n",
    "### Hypotheses\n",
    "\n",
    "- **Null hypothesis (H₀):** The mean of the sample **is identical** to the specified population mean.\n",
    "- **Alternative hypothesis (H₁):** The mean of the sample **is not identical** to the specified population mean."
   ]
  },
  {
   "cell_type": "code",
   "execution_count": null,
   "id": "c65c245f",
   "metadata": {},
   "outputs": [],
   "source": []
  },
  {
   "cell_type": "markdown",
   "id": "89f6bdec",
   "metadata": {},
   "source": [
    "The module `pingouin` implements a lot of usefull statistical tests (see: https://pingouin-stats.org/build/html/index.html)"
   ]
  },
  {
   "cell_type": "code",
   "execution_count": null,
   "id": "ef9aac6c",
   "metadata": {},
   "outputs": [],
   "source": []
  },
  {
   "cell_type": "markdown",
   "id": "b838d76f",
   "metadata": {},
   "source": [
    "The results can be interpreted in that way:\n",
    "With a probability of 81.2 % to get a sample mean of 8.32 it the true population mean is 8.33"
   ]
  },
  {
   "cell_type": "markdown",
   "id": "59db981c",
   "metadata": {},
   "source": [
    "### Two-sample $t$-test\n",
    "A two-sample t-test (also called independent samples t-test) is used to determine whether the means of two independent groups are significantly different from each other.\n",
    "\n",
    "When to use it?\n",
    "\n",
    "- You have two separate groups (e.g. treatment vs. control)\n",
    "- You want to test if their population means are equal\n",
    "- Data is approximately normally distributed within each group\n",
    "- Variances are assumed equal (when unequal use Welch’s t-test)\n",
    "\n",
    "### Hypotheses\n",
    "\n",
    "- **Null hypothesis (H₀):** The population means of the two groups **are equal**.\n",
    "- **Alternative hypothesis (H₁):** T the population means of the two groups **are not equal**."
   ]
  },
  {
   "cell_type": "code",
   "execution_count": null,
   "id": "8c052411",
   "metadata": {},
   "outputs": [],
   "source": []
  },
  {
   "cell_type": "code",
   "execution_count": null,
   "id": "260f3112",
   "metadata": {},
   "outputs": [],
   "source": []
  },
  {
   "cell_type": "markdown",
   "id": "58c92f3f",
   "metadata": {},
   "source": [
    "A p-value that small indicates that it is very (very) unlikely that the means of the two groups are identical\n",
    "\n",
    "### ANOVA\n",
    "---\n",
    "ANOVA (Analysis of Variance) is a statistical method used to test whether there are significant differences between the means of three or more groups.\n",
    "\n",
    "**Why not use multiple t-tests?**\n",
    "\n",
    "If we were to compare each pair of groups with individual t-tests, the probability of making a Type I error (false positive) increases with each test. ANOVA controls this error rate by testing all groups simultaneously in a single procedure.\n",
    "\n",
    "---\n",
    "\n",
    "#### Hypotheses\n",
    "\n",
    "- **Null hypothesis (H₀):** All group means are equal.\n",
    "- **Alternative hypothesis (H₁):** At least one group mean is different.\n",
    "\n",
    "#### Basic idea\n",
    "\n",
    "ANOVA compares **two sources of variability**:\n",
    "- **Between-group variability:** Variance due to the interaction between the different groups (how much group means differ from the overall mean).\n",
    "- **Within-group variability:** Variance due to differences within individual groups (natural spread of data).\n",
    "\n",
    "From this variabilities a F-statistic and its corresponding p-value according to the F-distribution are calculated.\n",
    "\n",
    "If the null hypothesis is rejected the Tukey's HSD (Honestly Significant Difference) post hoc test can be conducted to identify the groups which reject the null hypothesis.\n"
   ]
  },
  {
   "cell_type": "code",
   "execution_count": null,
   "id": "e1ff4095",
   "metadata": {},
   "outputs": [],
   "source": []
  },
  {
   "cell_type": "code",
   "execution_count": null,
   "id": "19819d67",
   "metadata": {},
   "outputs": [],
   "source": []
  },
  {
   "cell_type": "code",
   "execution_count": null,
   "id": "91917cef",
   "metadata": {},
   "outputs": [],
   "source": []
  },
  {
   "cell_type": "code",
   "execution_count": null,
   "id": "97a37786",
   "metadata": {},
   "outputs": [],
   "source": []
  },
  {
   "cell_type": "markdown",
   "id": "0df4f5f7",
   "metadata": {},
   "source": [
    "## EXCURSE: Plotting the Mandelbrot set"
   ]
  },
  {
   "cell_type": "code",
   "execution_count": null,
   "id": "ed4a22c5",
   "metadata": {},
   "outputs": [],
   "source": []
  }
 ],
 "metadata": {
  "kernelspec": {
   "display_name": "BasicML",
   "language": "python",
   "name": "python3"
  },
  "language_info": {
   "codemirror_mode": {
    "name": "ipython",
    "version": 3
   },
   "file_extension": ".py",
   "mimetype": "text/x-python",
   "name": "python",
   "nbconvert_exporter": "python",
   "pygments_lexer": "ipython3",
   "version": "3.12.9"
  }
 },
 "nbformat": 4,
 "nbformat_minor": 5
}
