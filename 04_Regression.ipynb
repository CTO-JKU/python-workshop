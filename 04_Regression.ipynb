{
 "cells": [
  {
   "cell_type": "markdown",
   "id": "bd0e5b80",
   "metadata": {},
   "source": [
    "# NOTEBOOK 4: Regression\n",
    "## Typical regression algorithms\n",
    "---\n",
    "### Linear regression"
   ]
  },
  {
   "cell_type": "code",
   "execution_count": null,
   "id": "026581f5",
   "metadata": {},
   "outputs": [],
   "source": []
  },
  {
   "cell_type": "code",
   "execution_count": null,
   "id": "688d6e73",
   "metadata": {},
   "outputs": [],
   "source": []
  },
  {
   "cell_type": "code",
   "execution_count": null,
   "id": "f1d4cef4",
   "metadata": {},
   "outputs": [],
   "source": []
  },
  {
   "cell_type": "code",
   "execution_count": null,
   "id": "2ba5d215",
   "metadata": {},
   "outputs": [],
   "source": []
  },
  {
   "cell_type": "markdown",
   "id": "4ff240f3",
   "metadata": {},
   "source": [
    "### Multiple linear regression"
   ]
  },
  {
   "cell_type": "code",
   "execution_count": null,
   "id": "ac86cc55",
   "metadata": {},
   "outputs": [],
   "source": []
  },
  {
   "cell_type": "code",
   "execution_count": null,
   "id": "d60ef2c6",
   "metadata": {},
   "outputs": [],
   "source": []
  },
  {
   "cell_type": "code",
   "execution_count": null,
   "id": "ad4dcb2a",
   "metadata": {},
   "outputs": [],
   "source": []
  },
  {
   "cell_type": "code",
   "execution_count": null,
   "id": "26479125",
   "metadata": {},
   "outputs": [],
   "source": []
  },
  {
   "cell_type": "code",
   "execution_count": null,
   "id": "ff84cd63",
   "metadata": {},
   "outputs": [],
   "source": []
  },
  {
   "cell_type": "code",
   "execution_count": null,
   "id": "94720739",
   "metadata": {},
   "outputs": [],
   "source": []
  },
  {
   "cell_type": "markdown",
   "id": "ead898e6",
   "metadata": {},
   "source": [
    "## LASSO\n",
    "Lasso stands for Least Absolute Shrinkage and Selection Operator. It is a linear regression technique with L1 regularization\n",
    "\n",
    "**Basic idea**\n",
    "\n",
    "In ordinary least squares (OLS) regression, we minimize:\n",
    "\n",
    "$$\n",
    "\\text{Loss} = \\sum_{i=1}^n (y_i - \\hat{y}_i)^2 \n",
    "$$\n",
    "\n",
    "where $y_i$​ is the actual value, and $\\hat{y}_i$​ is the predicted value. In LASSO regression, we add a penalty term proportional to the sum of the absolute values of the coefficients:\n",
    "\n",
    "$$\n",
    "\\text{Loss} = \\sum_{i=1}^n (y_i - \\hat{y}_i)^2 + \\lambda \\sum_{j=1}^p|\\beta_j|\n",
    "$$\n",
    "\n",
    "where $\\lambda$ is the regularization strength parameter and $\\beta_j$ the regression coefficents\n",
    "\n",
    "The effect of the L1 penalty that it shrinks coefficients towards zero and performs thereby feature selection – some coefficients become exactly zero, effectively excluding unimportant variables from the model"
   ]
  },
  {
   "cell_type": "code",
   "execution_count": null,
   "id": "88368b7f",
   "metadata": {},
   "outputs": [],
   "source": []
  },
  {
   "cell_type": "code",
   "execution_count": null,
   "id": "650df5b4",
   "metadata": {},
   "outputs": [],
   "source": []
  },
  {
   "cell_type": "code",
   "execution_count": null,
   "id": "97cfacc4",
   "metadata": {},
   "outputs": [],
   "source": []
  },
  {
   "cell_type": "code",
   "execution_count": null,
   "id": "f993c47e",
   "metadata": {},
   "outputs": [],
   "source": []
  }
 ],
 "metadata": {
  "kernelspec": {
   "display_name": "BasicML",
   "language": "python",
   "name": "python3"
  },
  "language_info": {
   "codemirror_mode": {
    "name": "ipython",
    "version": 3
   },
   "file_extension": ".py",
   "mimetype": "text/x-python",
   "name": "python",
   "nbconvert_exporter": "python",
   "pygments_lexer": "ipython3",
   "version": "3.12.9"
  }
 },
 "nbformat": 4,
 "nbformat_minor": 5
}
